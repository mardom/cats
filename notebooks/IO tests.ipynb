{
 "cells": [
  {
   "cell_type": "code",
   "execution_count": 24,
   "id": "1b0edaf6",
   "metadata": {},
   "outputs": [],
   "source": [
    "import astropy.table as apt\n",
    "import asdf\n",
    "from astropy.coordinates import SkyCoord"
   ]
  },
  {
   "cell_type": "code",
   "execution_count": 2,
   "id": "e192669e",
   "metadata": {},
   "outputs": [],
   "source": [
    "t=apt.Table.read('../../galstreams/galstreams/tracks/track.st.GD-1.pricewhelan2018.ecsv')"
   ]
  },
  {
   "cell_type": "code",
   "execution_count": 3,
   "id": "76f2e338",
   "metadata": {},
   "outputs": [],
   "source": [
    "t2 = apt.Table.read('../../galstreams/galstreams/tracks/track.st.GD-1.pricewhelan2018.summary.ecsv')"
   ]
  },
  {
   "cell_type": "code",
   "execution_count": 4,
   "id": "eb0cfeed",
   "metadata": {},
   "outputs": [],
   "source": [
    "t.write('GD-1.pricewhelan2018.asdf',data_key='track',format='asdf')"
   ]
  },
  {
   "cell_type": "code",
   "execution_count": 5,
   "id": "a08a2d3a",
   "metadata": {},
   "outputs": [],
   "source": [
    "t2.write('GD-1.pricewhelan2018.asdf',data_key='summary',format='asdf')"
   ]
  },
  {
   "cell_type": "code",
   "execution_count": 11,
   "id": "cbefe98d",
   "metadata": {},
   "outputs": [],
   "source": [
    "table_tree = {'track':t, 'summary':t2};"
   ]
  },
  {
   "cell_type": "code",
   "execution_count": 15,
   "id": "ff058b31",
   "metadata": {},
   "outputs": [],
   "source": [
    "a = asdf.AsdfFile(table_tree)\n",
    "a.write_to('GD-1.pricewhelan2018.asdf')"
   ]
  },
  {
   "cell_type": "code",
   "execution_count": 47,
   "id": "7fe02c2c",
   "metadata": {},
   "outputs": [],
   "source": [
    "tt = apt.Table.read('GD-1.pricewhelan2018.asdf',data_key='summary')"
   ]
  },
  {
   "cell_type": "code",
   "execution_count": 50,
   "id": "600a7359",
   "metadata": {},
   "outputs": [
    {
     "data": {
      "text/html": [
       "<div><i>Table length=1</i>\n",
       "<table id=\"table140415405555616\" class=\"table-striped table-bordered table-condensed\">\n",
       "<thead><tr><th>StreamName</th><th>StreamShortName</th><th>InfoFlags</th><th>end_o.ra</th><th>end_o.dec</th><th>end_o.distance</th><th>end_o.pm_ra_cosdec</th><th>end_o.pm_dec</th><th>end_o.radial_velocity</th><th>end_f.ra</th><th>end_f.dec</th><th>end_f.distance</th><th>end_f.pm_ra_cosdec</th><th>end_f.pm_dec</th><th>end_f.radial_velocity</th><th>mid.ra</th><th>mid.dec</th><th>mid.distance</th><th>mid.pm_ra_cosdec</th><th>mid.pm_dec</th><th>mid.radial_velocity</th><th>pole.ra</th><th>pole.dec</th><th>pole.distance</th></tr></thead>\n",
       "<thead><tr><th></th><th></th><th></th><th>deg</th><th>deg</th><th>kpc</th><th>mas / yr</th><th>mas / yr</th><th>km / s</th><th>deg</th><th>deg</th><th>kpc</th><th>mas / yr</th><th>mas / yr</th><th>km / s</th><th>deg</th><th>deg</th><th>kpc</th><th>mas / yr</th><th>mas / yr</th><th>km / s</th><th>deg</th><th>deg</th><th></th></tr></thead>\n",
       "<thead><tr><th>str4</th><th>str4</th><th>str4</th><th>float64</th><th>float64</th><th>float64</th><th>float64</th><th>float64</th><th>float64</th><th>float64</th><th>float64</th><th>float64</th><th>float64</th><th>float64</th><th>float64</th><th>float64</th><th>float64</th><th>float64</th><th>float64</th><th>float64</th><th>float64</th><th>float64</th><th>float64</th><th>float64</th></tr></thead>\n",
       "<tr><td>GD-1</td><td>GD-1</td><td>1110</td><td>124.06463770068025</td><td>-7.970772979891113</td><td>5.508347580561896</td><td>-2.383498192121123</td><td>-7.8564837934212495</td><td>1.9209032938308283e-10</td><td>219.56222712541387</td><td>58.20526418569576</td><td>10.498741139627292</td><td>-8.445978981710363</td><td>-1.3661780519199789</td><td>2.2529341417616946e-10</td><td>200.48591243455303</td><td>58.311465160880104</td><td>9.999999999926288</td><td>-8.409965794914967</td><td>-3.975967581427862</td><td>1.3176816404824234e-10</td><td>34.59870000073543</td><td>29.733100003154735</td><td>1.0</td></tr>\n",
       "</table></div>"
      ],
      "text/plain": [
       "<Table length=1>\n",
       "StreamName StreamShortName InfoFlags ...      pole.dec      pole.distance\n",
       "                                     ...        deg                      \n",
       "   str4          str4         str4   ...      float64          float64   \n",
       "---------- --------------- --------- ... ------------------ -------------\n",
       "      GD-1            GD-1      1110 ... 29.733100003154735           1.0"
      ]
     },
     "execution_count": 50,
     "metadata": {},
     "output_type": "execute_result"
    }
   ],
   "source": [
    "tt"
   ]
  },
  {
   "cell_type": "code",
   "execution_count": 36,
   "id": "90744e16",
   "metadata": {},
   "outputs": [],
   "source": [
    "sc_test = SkyCoord(0*u.deg,0*u.deg)"
   ]
  },
  {
   "cell_type": "code",
   "execution_count": 37,
   "id": "a68a75c5",
   "metadata": {},
   "outputs": [
    {
     "data": {
      "text/plain": [
       "True"
      ]
     },
     "execution_count": 37,
     "metadata": {},
     "output_type": "execute_result"
    }
   ],
   "source": [
    "type(sc) == type(sc_test)"
   ]
  },
  {
   "cell_type": "code",
   "execution_count": 38,
   "id": "774a6a3d",
   "metadata": {},
   "outputs": [
    {
     "data": {
      "text/plain": [
       "<SkyCoord (ICRS): (ra, dec) in deg\n",
       "    [(124.0646377 , -7.97077298), (124.06831761, -7.96136413),\n",
       "     (124.07199789, -7.95195551), ..., (219.52460701, 58.20827053),\n",
       "     (219.54341787, 58.20676868), (219.56222713, 58.20526419)]>"
      ]
     },
     "execution_count": 38,
     "metadata": {},
     "output_type": "execute_result"
    }
   ],
   "source": [
    "SkyCoord(tt['ra'],tt['dec'])"
   ]
  },
  {
   "cell_type": "code",
   "execution_count": 40,
   "id": "e13f65f0",
   "metadata": {},
   "outputs": [
    {
     "data": {
      "text/plain": [
       "True"
      ]
     },
     "execution_count": 40,
     "metadata": {},
     "output_type": "execute_result"
    }
   ],
   "source": [
    "isinstance(sc, SkyCoord)"
   ]
  },
  {
   "cell_type": "code",
   "execution_count": 86,
   "id": "6a8e5f9a",
   "metadata": {},
   "outputs": [],
   "source": [
    "import galstreams as gst\n",
    "from matplotlib.path import Path as mpl_path\n",
    "from astropy.table import Table\n",
    "import asdf\n",
    "import astropy.units as u\n",
    "from astropy.coordinates import SkyCoord\n",
    "from gala.coordinates import GreatCircleICRSFrame\n",
    "import numpy as np"
   ]
  },
  {
   "cell_type": "code",
   "execution_count": 233,
   "id": "c3f333be",
   "metadata": {},
   "outputs": [],
   "source": [
    "class Footprint2D(dict):\n",
    "    def __init__(self, vertex_coordinates, footprint_type, stream_frame=None):\n",
    "        if footprint_type=='sky':\n",
    "            if isinstance(vertex_coordinates, SkyCoord):\n",
    "                vc = vertex_coordinates\n",
    "            else:\n",
    "                vc = SkyCoord(vertex_coordinates)\n",
    "            self.edges = vc\n",
    "            self.vertices = np.array([vc.transform_to(stream_frame).phi1, vc.transform_to(stream_frame).phi2]).T\n",
    "\n",
    "        elif footprint_type=='cartesian':\n",
    "            self.edges = vertex_coordinates\n",
    "            self.vertices = vertex_coordinates\n",
    "\n",
    "        self.stream_frame = stream_frame\n",
    "        self.footprint = mpl_path(self.vertices)\n",
    "        \n",
    "    @classmethod\n",
    "    def from_vertices(cls, vertex_coordinates, footprint_type):\n",
    "        return cls(vertices,footprint_type)\n",
    "\n",
    "    @classmethod\n",
    "    def from_box(cls, min1, max1, min2, max2, footprint_type):\n",
    "        vertices = get_vertices_from_box(min1, max1, min2, max2)\n",
    "        return cls(vertices,footprint_type)\n",
    "\n",
    "    @classmethod\n",
    "    def from_file(cls,fname):\n",
    "        with Table.read(fname) as t:\n",
    "            vertices = t['vertices']\n",
    "            footprint_type = t['footprint_type']\n",
    "        return cls(vertices,footprint_type)\n",
    "\n",
    "    def get_vertices_from_box(min1, max1, min2, max2):\n",
    "        return [[min1,min2],[min1,max2],[max1,min2],[max1,max2]]\n",
    "    \n",
    "    def inside_footprint(self,data):\n",
    "        if isinstance(data, SkyCoord):\n",
    "            if self.stream_frame is None:\n",
    "                print(\"can't!\")\n",
    "                return\n",
    "            else:\n",
    "                pts = np.array([data.transform_to(self.stream_frame).phi1.value,data.transform_to(self.stream_frame).phi2.value]).T\n",
    "                return self.footprint.contains_points(pts)\n",
    "        else:\n",
    "            return self.footprint.contains_points(data)\n"
   ]
  },
  {
   "cell_type": "code",
   "execution_count": 261,
   "id": "0a68a545",
   "metadata": {},
   "outputs": [],
   "source": [
    "class pawprintClass(dict):\n",
    "    '''Dictionary class to store a \"pawprint\": \n",
    "        polygons in multiple observational spaces that define the initial selection \n",
    "        used for stream track modeling, \n",
    "        membership calculation / density modeling, and background modeling.\n",
    "        \n",
    "        New convention: everything is in phi1 phi2 (don't cross the streams)\n",
    "\n",
    "        '''\n",
    "\n",
    "    \n",
    "    def __init__(self, data):\n",
    "        \n",
    "        #we need a way to specify and load the vertices for the footprints. \n",
    "        #How do we want to do it? \n",
    "        #I sketched here passing the name of the stream \n",
    "        #but we could also pass a list of vertices provided by WG2/3\n",
    "\n",
    "        self.stream_name = data['stream_name']\n",
    "        self.pawprint_ID = data['pawprint_ID']\n",
    "        self.stream_frame = data['stream_frame']\n",
    "        self.width = data['width']\n",
    "        self.skyprint = {'stream':Footprint2D(data['stream_vertices'],footprint_type='sky',stream_frame=self.stream_frame), \n",
    "                        'background':Footprint2D(data['background_vertices'],footprint_type='sky',stream_frame=self.stream_frame)} \n",
    "        #WG3: how to implement distance dependence in isochrone selections?\n",
    "        self.cmd_filters = data['cmd_filters']\n",
    "        self.cmdprint = {}\n",
    "        if self.cmd_filters is not None:\n",
    "            for k in data.cmd_filters.keys():\n",
    "                self.cmdprint[k] = Footprint2D(data['cmd_vertices'][k], footprint_type='cartesian')\n",
    "        if data['pm_vertices'] is not None:\n",
    "            self.pmprint = Footprint2D(data['pm_vertices'],footprint_type='sky') #polygon(s) in proper-motion space mu_phi1, mu_phi2\n",
    "        else:\n",
    "            self.pmprint = {}\n",
    "        self.track = data['track']\n",
    "\n",
    "    @classmethod\n",
    "    def load_pawprint(cls,fname):\n",
    "        #TODO: load all the stuff from the file into a dictionary called data and call the main init function\n",
    "        ...\n",
    "        return cls(data)\n",
    "        \n",
    "\n",
    "    \n",
    "    @classmethod\n",
    "    def pawprint_from_galstreams(cls,stream_name,pawprint_ID):\n",
    "        \n",
    "        \n",
    "        galstreams_tracks = '../../galstreams/galstreams/tracks/'\n",
    "    \n",
    "        def _make_track_file_name(stream_name,pawprint_ID):\n",
    "            return galstreams_tracks+'track.st.'+stream_name+'.'+pawprint_ID+\".ecsv\"\n",
    "    \n",
    "        def _make_summary_file_name(stream_name,pawprint_ID):\n",
    "            return galstreams_tracks+'track.st.'+stream_name+'.'+pawprint_ID+\".summary.ecsv\"\n",
    "        \n",
    "        def _get_stream_frame_from_file(summary_file):\n",
    "            t = apt.QTable.read(summary_file)\n",
    "        \n",
    "            x = dict()\n",
    "            atts = [x.replace('mid.','') for x in t.keys() if 'mid' in x ]\n",
    "            for att in atts:  #we're effectively looping over skycoords defined for mid here (ra, dec, ...)\n",
    "                x[att] = t[f'mid.{att}'][0]   #<- make sure to set it up as a scalar. if not, frame conversions get into trouble\n",
    "            mid_point = SkyCoord(**x) \n",
    "\n",
    "            x = dict()\n",
    "            atts = [x.replace('pole.','') for x in t.keys() if 'pole' in x ]\n",
    "            for att in atts:  #we're effectively looping over skycoords defined for pole here (ra, dec, ...)\n",
    "                x[att] = t[f'pole.{att}'][0]\n",
    "            #Make sure to set the pole's distance attribute to 1 (zero causes problems, when transforming to stream frame coords)\n",
    "            x[\"distance\"] = 1.*u.kpc   #it shouldn't matter, but if it's zero it does crazy things\n",
    "            mid_pole = SkyCoord(**x)\n",
    "\n",
    "            return GreatCircleICRSFrame(pole=mid_pole, ra0=mid_point.icrs.ra)\n",
    "\n",
    "        data = {}\n",
    "        data['stream_name'] = stream_name\n",
    "        data['pawprint_ID'] = pawprint_ID\n",
    "\n",
    "        track_file = _make_track_file_name(stream_name,pawprint_ID) \n",
    "        summary_file = _make_summary_file_name(stream_name,pawprint_ID) \n",
    "        data['stream_frame'] = _get_stream_frame_from_file(summary_file)\n",
    "\n",
    "        data['track'] = gst.Track6D(stream_name=data['stream_name'], track_name=data['pawprint_ID'], track_file=track_file, summary_file=summary_file)\n",
    "        data['width'] = 1.0*u.deg\n",
    "        data['stream_vertices'] = data['track'].create_sky_polygon_footprint_from_track(width=data['width'], phi2_offset=0.*u.deg)\n",
    "        data['background_vertices'] = data['track'].create_sky_polygon_footprint_from_track(width=data['width'], phi2_offset=3.*u.deg)\n",
    "        data['cmd_filters'] = None\n",
    "        data['cmd_vertices'] = None\n",
    "        data['pm_vertices'] = None\n",
    "\n",
    "\n",
    "        return cls(data)\n",
    "\n",
    "\n",
    "\n",
    "\n",
    "    def save_pawprint(self):\n",
    "        fname = self.stream_name+self.pawprint_ID+'.asdf'\n",
    "        tree = {\n",
    "            'stream_name':self.stream_name,\n",
    "            'pawprint_ID':self.pawprint_ID,\n",
    "            'stream_frame':self.stream_frame,\n",
    "            'cmd_filters': self.cmd_filters,\n",
    "            'width':self.width,\n",
    "            'on_stream':{\n",
    "                        'sky':self.skyprint['stream'],\n",
    "                        'cmd':self.cmdprint,\n",
    "                        'pm':self.pmprint,\n",
    "                        },\n",
    "            'off_stream':self.skyprint['background'],\n",
    "            'track':self.track\n",
    "        }\n",
    "        out = asdf.AsdfFile(tree)\n",
    "        out.write_to(fname)\n",
    "    \n"
   ]
  },
  {
   "cell_type": "code",
   "execution_count": 291,
   "id": "e18e8277",
   "metadata": {},
   "outputs": [],
   "source": [
    "from pawprint import *"
   ]
  },
  {
   "cell_type": "code",
   "execution_count": 268,
   "id": "b5ba45b5",
   "metadata": {},
   "outputs": [],
   "source": [
    "#load a pawprint from galstreams (sky only)\n",
    "p = pawprintClass.pawprint_from_galstreams('Jhelum-a','bonaca2019')"
   ]
  },
  {
   "cell_type": "code",
   "execution_count": 269,
   "id": "ced1ce0c",
   "metadata": {},
   "outputs": [],
   "source": [
    "#Generate random points on the sphere in an area around the track\n",
    "rao,raf = np.min(p.track.track.ra.deg), np.max(p.track.track.ra.deg)\n",
    "deco,decf = np.min(p.track.track.dec.deg),np.max(p.track.track.dec.deg)\n",
    "field_ra, field_dec = gst.get_random_spherical_angles(5000,az=[rao,raf],\n",
    "                                                           lat=[deco,decf],degree=True)\n",
    "field = SkyCoord(ra=field_ra*u.deg, dec=field_dec*u.deg, frame='icrs')\n",
    "\n",
    "#generate masks for the on- and off-stream sky footprints\n",
    "on = p.skyprint['stream'].inside_footprint(field)\n",
    "off = p.skyprint['background'].inside_footprint(field)"
   ]
  },
  {
   "cell_type": "code",
   "execution_count": 264,
   "id": "3398469f",
   "metadata": {},
   "outputs": [],
   "source": [
    "from matplotlib import pyplot as plt"
   ]
  },
  {
   "cell_type": "code",
   "execution_count": 271,
   "id": "3d224a40",
   "metadata": {},
   "outputs": [
    {
     "data": {
      "text/plain": [
       "[<matplotlib.lines.Line2D at 0x7fb4c4f22970>]"
      ]
     },
     "execution_count": 271,
     "metadata": {},
     "output_type": "execute_result"
    },
    {
     "data": {
      "image/png": "[encoded data removed]",
      "text/plain": [
       "<Figure size 720x576 with 1 Axes>"
      ]
     },
     "metadata": {
      "needs_background": "light"
     },
     "output_type": "display_data"
    }
   ],
   "source": [
    "\n",
    "plt.figure(1,figsize=(10,8))\n",
    "ax = plt.subplot(111)\n",
    "\n",
    "#plot the track\n",
    "ax.plot(p.track.track.ra.wrap_at(180*u.deg), p.track.track.dec, '.', ms=2., color='C0')\n",
    "\n",
    "#plot the on-stream polygon\n",
    "ax.plot(p.skyprint['stream'].edges.icrs.ra.wrap_at(180*u.deg), p.skyprint['stream'].edges.icrs.dec, ls='--', color='C0')\n",
    "\n",
    "#plot random background \"field\" points \n",
    "ax.plot(field.ra.wrap_at(180*u.deg), field.dec, 'k.', ms=0.5)\n",
    "\n",
    "#plot the field points inside the polygon footprint\n",
    "ax.plot(field.ra[on].wrap_at(180*u.deg), field.dec[on], '.', ms=2.5, color='C0')\n",
    "\n",
    "#Plot the off-stream polygon footprint and points selected inside it\n",
    "ax.plot(p.skyprint['background'].edges.icrs.ra.wrap_at(180*u.deg), p.skyprint['background'].edges.icrs.dec, ls=':', color='C1')\n",
    "ax.plot(field.ra[off].wrap_at(180*u.deg), field.dec[off], '.', ms=2.5, color='C1')"
   ]
  },
  {
   "cell_type": "code",
   "execution_count": 290,
   "id": "2cfb4217",
   "metadata": {},
   "outputs": [
    {
     "data": {
      "text/plain": [
       "(-10.0, 10.0)"
      ]
     },
     "execution_count": 290,
     "metadata": {},
     "output_type": "execute_result"
    },
    {
     "data": {
      "image/png": "[encoded data removed]",
      "text/plain": [
       "<Figure size 720x576 with 1 Axes>"
      ]
     },
     "metadata": {
      "needs_background": "light"
     },
     "output_type": "display_data"
    }
   ],
   "source": [
    "\n",
    "plt.figure(1,figsize=(10,8))\n",
    "ax = plt.subplot(111)\n",
    "\n",
    "#Plot the track in phi1/phi2\n",
    "ax.plot(p.track.track.transform_to(p.stream_frame).phi1, \n",
    "        p.track.track.transform_to(p.stream_frame).phi2, '.', ms=2., color='C0')\n",
    "#plot the on-stream polygon \n",
    "ax.plot(p.skyprint['stream'].edges.transform_to(p.stream_frame).phi1, \n",
    "        p.skyprint['stream'].edges.transform_to(p.stream_frame).phi2, ls='--', color='C0')\n",
    "#plot the off-stream polygon\n",
    "ax.plot(p.skyprint['background'].edges.transform_to(p.stream_frame).phi1, \n",
    "        p.skyprint['background'].edges.transform_to(p.stream_frame).phi2, ls=':', color='C1')\n",
    "\n",
    "ax.plot(field.transform_to(p.stream_frame).phi1, field.transform_to(p.stream_frame).phi2,'.k', ms=0.5)\n",
    "ax.plot(field[on].transform_to(p.stream_frame).phi1, field[on].transform_to(p.stream_frame).phi2,'.', ms=2)\n",
    "ax.plot(field[off].transform_to(p.stream_frame).phi1, field[off].transform_to(p.stream_frame).phi2,'.', color='orange', ms=2)\n",
    "\n",
    "ax.set_ylim(-10,10)"
   ]
  },
  {
   "cell_type": "code",
   "execution_count": 292,
   "id": "91f37e31",
   "metadata": {},
   "outputs": [
    {
     "name": "stderr",
     "output_type": "stream",
     "text": [
      "/opt/anaconda3/envs/cats/lib/python3.8/site-packages/asdf/schema.py:301: AsdfWarning: Unable to locate schema file for 'tag:astropy.org:astropy/coordinates/frames/greatcircleicrsframe-1.0.0': 'http://astropy.org/schemas/astropy/coordinates/frames/greatcircleicrsframe-1.0.0'\n",
      "  warnings.warn(msg.format(tag, schema_uri), AsdfWarning)\n",
      "/opt/anaconda3/envs/cats/lib/python3.8/site-packages/asdf/yamlutil.py:300: AsdfConversionWarning: tag:astropy.org:astropy/coordinates/frames/greatcircleicrsframe-1.0.0 is not recognized, converting to raw Python data structure\n",
      "  warnings.warn(\n"
     ]
    }
   ],
   "source": [
    "a = asdf.open('Jhelum-abonaca2019.asdf')"
   ]
  },
  {
   "cell_type": "code",
   "execution_count": 295,
   "id": "944b25fc",
   "metadata": {},
   "outputs": [
    {
     "data": {
      "text/plain": [
       "'Jhelum-a'"
      ]
     },
     "execution_count": 295,
     "metadata": {},
     "output_type": "execute_result"
    }
   ],
   "source": [
    "a['stream_name']"
   ]
  },
  {
   "cell_type": "code",
   "execution_count": null,
   "id": "b4d99d60",
   "metadata": {},
   "outputs": [],
   "source": []
  }
 ],
 "metadata": {
  "kernelspec": {
   "display_name": "Python 3 (ipykernel)",
   "language": "python",
   "name": "python3"
  },
  "language_info": {
   "codemirror_mode": {
    "name": "ipython",
    "version": 3
   },
   "file_extension": ".py",
   "mimetype": "text/x-python",
   "name": "python",
   "nbconvert_exporter": "python",
   "pygments_lexer": "ipython3",
   "version": "3.10.6"
  }
 },
 "nbformat": 4,
 "nbformat_minor": 5
}
