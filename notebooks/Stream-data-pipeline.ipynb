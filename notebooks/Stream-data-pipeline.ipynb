{
 "cells": [
  {
   "cell_type": "code",
<<<<<<< HEAD
<<<<<<< HEAD
   "execution_count": 1,
=======
   "execution_count": 4,
>>>>>>> b93046e15764895650c559a0862ddf711c375552
=======
   "execution_count": 6,
>>>>>>> ba961f2fdda450f894aa26689fa98c1071b12fcb
   "id": "8912ba6d",
   "metadata": {
    "ExecuteTime": {
     "end_time": "2022-11-02T20:42:08.661399Z",
     "start_time": "2022-11-02T20:42:08.643602Z"
    }
   },
   "outputs": [
    {
     "name": "stdout",
     "output_type": "stream",
     "text": [
      "Configuration file not found:\n",
      "\n",
      "    /home/mardom/.dustmapsrc\n",
      "\n",
      "To create a new configuration file in the default location, run the following python code:\n",
      "\n",
      "    from dustmaps.config import config\n",
      "    config.reset()\n",
      "\n",
      "Note that this will delete your configuration! For example, if you have specified a data directory, then dustmaps will forget about its location.\n"
     ]
    }
   ],
   "source": [
    "from __future__ import annotations\n",
    "\n",
    "import astropy.coordinates as coord\n",
    "import astropy.table as at\n",
    "import astropy.units as u\n",
    "\n",
    "%matplotlib inline\n",
    "\n",
    "import sys\n",
    "\n",
    "import galstreams\n",
    "from pyia import GaiaData\n",
    "\n",
    "sys.path.append(\"../\")\n",
    "import cats.photometry as phot\n",
    "from cats.data import make_astro_photo_joined_data"
   ]
  },
  {
   "cell_type": "code",
<<<<<<< HEAD
   "execution_count": 2,
<<<<<<< HEAD
   "id": "3a11d318",
=======
=======
   "execution_count": 7,
>>>>>>> ba961f2fdda450f894aa26689fa98c1071b12fcb
   "id": "8aec9b5f",
>>>>>>> b93046e15764895650c559a0862ddf711c375552
   "metadata": {
    "ExecuteTime": {
     "end_time": "2022-11-02T20:39:12.141332Z",
     "start_time": "2022-11-02T20:38:47.039263Z"
    }
   },
   "outputs": [
    {
     "name": "stdout",
     "output_type": "stream",
     "text": [
      "Initializing galstreams library from master_log... \n"
     ]
    }
   ],
   "source": [
    "mws = galstreams.MWStreams(verbose=False, implement_Off=True)"
   ]
  },
  {
<<<<<<< HEAD
   "cell_type": "code",
   "execution_count": 19,
   "id": "d9c1f467",
   "metadata": {
    "ExecuteTime": {
     "end_time": "2022-11-02T18:52:38.784395Z",
     "start_time": "2022-11-02T18:52:38.781627Z"
    }
   },
   "outputs": [],
   "source": [
    "# streams = {\n",
    "#     'GD-1': 'GD-1-PB18',\n",
    "#     'Pal5': 'Pal5-PW19',\n",
    "#     'Jhelum': 'Jhelum-b-B19',\n",
    "#     'Fjorm-M68': 'M68-P19',\n",
    "#     'PS1-A': 'PS1-A-B16',\n",
    "# }"
   ]
  },
  {
   "cell_type": "code",
   "execution_count": 3,
   "id": "e91b9768",
   "metadata": {
    "ExecuteTime": {
     "end_time": "2022-11-02T20:33:09.203135Z",
     "start_time": "2022-11-02T20:33:09.174047Z"
    }
   },
   "outputs": [],
   "source": [
    "def make_astro_photo_joined_data(gaia_data, phot_data, track6d):\n",
    "    stream_fr = gs.stream_frame\n",
    "    \n",
    "    track = gs.track.transform_to(stream_fr)\n",
    "    if np.all(track.distance.value == 0):\n",
    "        raise ValueError(\n",
    "            \"A distance track is required: this stream has no distance information in \"\n",
    "            \"the galstreams track.\"\n",
    "            \n",
    "        )\n",
    "    \n",
    "    # interpolator to get predicted distance from phi1\n",
    "    dist_interp = sci.InterpolatedUnivariateSpline(\n",
    "        track.phi1.degree, track.distance.value, k=1\n",
    "    )\n",
    "    \n",
    "    # get stream coordinates for all stars, and reflex correct with predicted distance\n",
    "    _c_tmp = gaia_data.get_skycoord(distance=False).transform_to(stream_fr)\n",
    "    c = gaia_data.get_skycoord(\n",
    "        distance=dist_interp(_c_tmp.phi1.degree) * track.distance.unit,\n",
    "        radial_velocity=0*u.km/u.s\n",
    "    )\n",
    "    c_stream = c.transform_to(stream_fr)\n",
    "    c_stream_refl = gc.reflex_correct(c_stream)\n",
    "    \n",
    "    # get extinction-corrected photometry and star/galaxy mask\n",
    "    ext = phot_data.get_ext_corrected_phot()\n",
    "    ext['star_mask'] = p.get_star_mask()\n",
    "    \n",
    "    # start building the final joined table \n",
    "    joined = g.data.copy()\n",
    "    for name in ['phi1', 'phi2', 'pm_phi1_cosphi2', 'pm_phi2']:\n",
    "        joined[name] = getattr(c_stream_refl, name)\n",
    "        if name not in ['phi1', 'phi2']:\n",
    "            joined[f\"{name}_unrefl\"] = getattr(c_stream, name)\n",
    "            \n",
    "    phot_full = at.hstack([phot_data.data, ext])\n",
    "    cols = ['source_id', 'star_mask'] + [b for b in ext.colnames if b.endswith('0')]\n",
    "    phot_min = phot_full[cols]\n",
    "    \n",
    "    joined = at.join(joined, phot_min, keys='source_id')\n",
    "    joined = at.unique(joined, keys='source_id')\n",
    "    \n",
    "    return joined"
   ]
  },
  {
   "cell_type": "code",
   "execution_count": 23,
   "id": "55964cc7-528c-4eae-9bd3-3359357bed5a",
   "metadata": {},
   "outputs": [
    {
     "name": "stdout",
     "output_type": "stream",
     "text": [
      "Fjorm-M68\t\t    GaiaDR3-PS1-A-all.fits  PS1-A\n",
      "GaiaDR3-Fjorm-M68-all.fits  GD-1\t\t    PS1DR2-GD-1_xm.fits\n",
      "GaiaDR3-GD-1-all.fits\t    index.html\t\t    PS1DR2-Pal5_xm.fits\n",
      "GaiaDR3-Jhelum-all.fits     Jhelum\t\t    PS1DR2-PS1-A_xm.fits\n",
      "GaiaDR3-Pal5-all.fits\t    Pal5\n"
     ]
    }
   ],
   "source": [
    "!ls ../../../data/cats/"
   ]
  },
  {
=======
>>>>>>> b93046e15764895650c559a0862ddf711c375552
   "cell_type": "markdown",
   "id": "cc9300ac",
   "metadata": {},
   "source": [
    "# GD-1"
   ]
  },
  {
   "cell_type": "code",
   "execution_count": 6,
   "id": "697384a8",
   "metadata": {
    "ExecuteTime": {
     "end_time": "2022-11-02T20:42:23.065244Z",
     "start_time": "2022-11-02T20:42:12.763395Z"
    }
   },
   "outputs": [
    {
     "ename": "KeyError",
     "evalue": "'GD1'",
     "output_type": "error",
     "traceback": [
      "\u001b[0;31m---------------------------------------------------------------------------\u001b[0m",
      "\u001b[0;31mKeyError\u001b[0m                                  Traceback (most recent call last)",
      "Cell \u001b[0;32mIn [21], line 4\u001b[0m\n\u001b[1;32m      2\u001b[0m g \u001b[38;5;241m=\u001b[39m GaiaData(\u001b[38;5;124m'\u001b[39m\u001b[38;5;124m../../../data/cats/GaiaDR3-GD-1-all.fits\u001b[39m\u001b[38;5;124m'\u001b[39m)\n\u001b[1;32m      3\u001b[0m p \u001b[38;5;241m=\u001b[39m phot\u001b[38;5;241m.\u001b[39mPS1Phot(\u001b[38;5;124m'\u001b[39m\u001b[38;5;124m../../../data/cats/PS1DR2-GD-1_xm.fits\u001b[39m\u001b[38;5;124m'\u001b[39m)\n\u001b[0;32m----> 4\u001b[0m gs \u001b[38;5;241m=\u001b[39m mws[ms_name]\n",
      "\u001b[0;31mKeyError\u001b[0m: 'GD1'"
     ]
    }
   ],
   "source": [
<<<<<<< HEAD
<<<<<<< HEAD
    "ms_name = 'GD-1'\n",
    "g = GaiaData('../../../data/cats/GaiaDR3-GD-1-all.fits')\n",
    "p = phot.PS1Phot('../../../data/cats/PS1DR2-GD-1_xm.fits')\n",
=======
    "name = 'GD-1'\n",
    "ms_name = 'GD-1-PB18'\n",
    "g = GaiaData(f'../data/GaiaDR3-{name}-all.fits')\n",
    "p = phot.PS1Phot('../data/PS1DR2-GD-1_xm.fits')\n",
>>>>>>> b93046e15764895650c559a0862ddf711c375552
=======
    "name = \"GD-1\"\n",
    "ms_name = \"GD-1-PB18\"\n",
    "g = GaiaData(f\"../data/GaiaDR3-{name}-all.fits\")\n",
    "p = phot.PS1Phot(\"../data/PS1DR2-GD-1_xm.fits\")\n",
>>>>>>> ba961f2fdda450f894aa26689fa98c1071b12fcb
    "gs = mws[ms_name]"
   ]
  },
  {
   "cell_type": "code",
   "execution_count": 8,
   "id": "078f836e",
   "metadata": {
    "ExecuteTime": {
     "end_time": "2022-11-02T20:45:01.940522Z",
     "start_time": "2022-11-02T20:43:24.317948Z"
    }
   },
   "outputs": [
    {
     "name": "stdout",
     "output_type": "stream",
     "text": [
      "/mnt/home/apricewhelan/anaconda3/lib/python3.9/site-packages/astropy/io/fits/card.py:264: VerifyWarning: Keyword name 'band_names' is greater than 8 characters or contains characters not allowed by the FITS standard; a HIERARCH card will be created.\n",
      "  warnings.warn(\n",
      "\n"
     ]
    }
   ],
   "source": [
    "joined = make_astro_photo_joined_data(g, p, gs)\n",
    "joined.write(f\"../data/joined-{name}.fits\", overwrite=True)"
   ]
  },
  {
   "cell_type": "markdown",
   "id": "1de8b618",
   "metadata": {},
   "source": [
    "# Pal 5"
   ]
  },
  {
   "cell_type": "code",
<<<<<<< HEAD
<<<<<<< HEAD
   "execution_count": 25,
   "id": "7a8a02c2-bd28-4c19-a50f-9233fe104542",
   "metadata": {},
   "outputs": [
    {
     "name": "stdout",
     "output_type": "stream",
     "text": [
      "Fjorm-M68\t\t    GaiaDR3-PS1-A-all.fits  PS1-A\n",
      "GaiaDR3-Fjorm-M68-all.fits  GD-1\t\t    PS1DR2-GD-1_xm.fits\n",
      "GaiaDR3-GD-1-all.fits\t    index.html\t\t    PS1DR2-Pal5_xm.fits\n",
      "GaiaDR3-Jhelum-all.fits     Jhelum\t\t    PS1DR2-PS1-A_xm.fits\n",
      "GaiaDR3-Pal5-all.fits\t    Pal5\n"
     ]
    }
   ],
   "source": [
    "!ls ../../../data/cats/"
   ]
  },
  {
   "cell_type": "code",
   "execution_count": 29,
   "id": "ac416a00-cb98-4b06-b9f3-9d6f5d3a0a0f",
   "metadata": {},
   "outputs": [
    {
     "name": "stdout",
     "output_type": "stream",
     "text": [
      "Downloading SFD data file to /home/mardom/anaconda3/envs/cats/lib/python3.10/site-packages/dustmaps-1.0.10-py3.10.egg/dustmaps/data/sfd/SFD_dust_4096_ngp.fits\n",
      "Downloading data to '/home/mardom/anaconda3/envs/cats/lib/python3.10/site-packages/dustmaps-1.0.10-py3.10.egg/dustmaps/data/sfd/SFD_dust_4096_ngp.fits' ...\n",
      "Downloading https://dataverse.harvard.edu/api/access/datafile/2902687 ...\n"
     ]
    },
    {
     "name": "stderr",
     "output_type": "stream",
     "text": [
      " 63.9 MiB of 64.0 MiB |   6.7 MiB/s |################## |  99% | ETA:   0:00:00"
     ]
    },
    {
     "name": "stdout",
     "output_type": "stream",
     "text": [
      "Downloading SFD data file to /home/mardom/anaconda3/envs/cats/lib/python3.10/site-packages/dustmaps-1.0.10-py3.10.egg/dustmaps/data/sfd/SFD_dust_4096_sgp.fits\n",
      "Downloading data to '/home/mardom/anaconda3/envs/cats/lib/python3.10/site-packages/dustmaps-1.0.10-py3.10.egg/dustmaps/data/sfd/SFD_dust_4096_sgp.fits' ...\n",
      "Downloading https://dataverse.harvard.edu/api/access/datafile/2902695 ...\n"
     ]
    },
    {
     "name": "stderr",
     "output_type": "stream",
     "text": [
      " 63.8 MiB of 64.0 MiB |   7.1 MiB/s |################## |  99% | ETA:   0:00:00"
     ]
    }
   ],
   "source": [
    "import dustmaps.sfd\n",
    "dustmaps.sfd.fetch()"
   ]
  },
  {
   "cell_type": "code",
   "execution_count": 27,
   "id": "cc3414bf",
   "metadata": {},
=======
   "execution_count": 10,
=======
   "execution_count": 8,
>>>>>>> ba961f2fdda450f894aa26689fa98c1071b12fcb
   "id": "182e57d2",
   "metadata": {
    "ExecuteTime": {
     "end_time": "2022-11-02T20:45:50.817619Z",
     "start_time": "2022-11-02T20:45:48.934191Z"
    }
   },
<<<<<<< HEAD
>>>>>>> b93046e15764895650c559a0862ddf711c375552
   "outputs": [],
   "source": [
    "name = 'Pal5'\n",
    "ms_name = 'Pal5-PW19'\n",
<<<<<<< HEAD
    "g = GaiaData('../../../data/cats/GaiaDR3-Pal5-all.fits')\n",
    "p = phot.PS1Phot('../../../data/cats/PS1DR2-Pal5_xm.fits')\n",
=======
    "g = GaiaData(f'../data/GaiaDR3-{name}-all.fits')\n",
    "p = phot.PS1Phot('../data/PS1DR2-Pal5_xm.fits')\n",
>>>>>>> b93046e15764895650c559a0862ddf711c375552
=======
   "outputs": [
    {
     "ename": "FileNotFoundError",
     "evalue": "[Errno 2] No such file or directory: '../data/GaiaDR3-Pal5-all.fits'",
     "output_type": "error",
     "traceback": [
      "\u001b[0;31m---------------------------------------------------------------------------\u001b[0m",
      "\u001b[0;31mFileNotFoundError\u001b[0m                         Traceback (most recent call last)",
      "\u001b[0;32m/var/folders/f1/wqzqbly11d9__jf5mjckhwvm0000gp/T/ipykernel_86993/2782858000.py\u001b[0m in \u001b[0;36m<module>\u001b[0;34m\u001b[0m\n\u001b[1;32m      1\u001b[0m \u001b[0mname\u001b[0m \u001b[0;34m=\u001b[0m \u001b[0;34m'Pal5'\u001b[0m\u001b[0;34m\u001b[0m\u001b[0;34m\u001b[0m\u001b[0m\n\u001b[1;32m      2\u001b[0m \u001b[0mms_name\u001b[0m \u001b[0;34m=\u001b[0m \u001b[0;34m'Pal5-PW19'\u001b[0m\u001b[0;34m\u001b[0m\u001b[0;34m\u001b[0m\u001b[0m\n\u001b[0;32m----> 3\u001b[0;31m \u001b[0mg\u001b[0m \u001b[0;34m=\u001b[0m \u001b[0mGaiaData\u001b[0m\u001b[0;34m(\u001b[0m\u001b[0;34mf'../data/GaiaDR3-{name}-all.fits'\u001b[0m\u001b[0;34m)\u001b[0m\u001b[0;34m\u001b[0m\u001b[0;34m\u001b[0m\u001b[0m\n\u001b[0m\u001b[1;32m      4\u001b[0m \u001b[0mp\u001b[0m \u001b[0;34m=\u001b[0m \u001b[0mphot\u001b[0m\u001b[0;34m.\u001b[0m\u001b[0mPS1Phot\u001b[0m\u001b[0;34m(\u001b[0m\u001b[0;34m'../data/PS1DR2-Pal5_xm.fits'\u001b[0m\u001b[0;34m)\u001b[0m\u001b[0;34m\u001b[0m\u001b[0;34m\u001b[0m\u001b[0m\n\u001b[1;32m      5\u001b[0m \u001b[0mgs\u001b[0m \u001b[0;34m=\u001b[0m \u001b[0mmws\u001b[0m\u001b[0;34m[\u001b[0m\u001b[0mms_name\u001b[0m\u001b[0;34m]\u001b[0m\u001b[0;34m\u001b[0m\u001b[0;34m\u001b[0m\u001b[0m\n",
      "\u001b[0;32m/Library/Frameworks/Python.framework/Versions/3.7/lib/python3.7/site-packages/pyia/data.py\u001b[0m in \u001b[0;36m__init__\u001b[0;34m(self, data, **kwargs)\u001b[0m\n\u001b[1;32m     96\u001b[0m         \u001b[0;32mif\u001b[0m \u001b[0;32mnot\u001b[0m \u001b[0misinstance\u001b[0m\u001b[0;34m(\u001b[0m\u001b[0mdata\u001b[0m\u001b[0;34m,\u001b[0m \u001b[0mTable\u001b[0m\u001b[0;34m)\u001b[0m\u001b[0;34m:\u001b[0m\u001b[0;34m\u001b[0m\u001b[0;34m\u001b[0m\u001b[0m\n\u001b[1;32m     97\u001b[0m             \u001b[0;32mif\u001b[0m \u001b[0misinstance\u001b[0m\u001b[0;34m(\u001b[0m\u001b[0mdata\u001b[0m\u001b[0;34m,\u001b[0m \u001b[0;34m(\u001b[0m\u001b[0mstr\u001b[0m\u001b[0;34m,\u001b[0m \u001b[0mpathlib\u001b[0m\u001b[0;34m.\u001b[0m\u001b[0mPath\u001b[0m\u001b[0;34m)\u001b[0m\u001b[0;34m)\u001b[0m\u001b[0;34m:\u001b[0m\u001b[0;34m\u001b[0m\u001b[0;34m\u001b[0m\u001b[0m\n\u001b[0;32m---> 98\u001b[0;31m                 \u001b[0mdata\u001b[0m \u001b[0;34m=\u001b[0m \u001b[0mTable\u001b[0m\u001b[0;34m.\u001b[0m\u001b[0mread\u001b[0m\u001b[0;34m(\u001b[0m\u001b[0mdata\u001b[0m\u001b[0;34m,\u001b[0m \u001b[0;34m**\u001b[0m\u001b[0mkwargs\u001b[0m\u001b[0;34m)\u001b[0m\u001b[0;34m\u001b[0m\u001b[0;34m\u001b[0m\u001b[0m\n\u001b[0m\u001b[1;32m     99\u001b[0m \u001b[0;34m\u001b[0m\u001b[0m\n\u001b[1;32m    100\u001b[0m             \u001b[0;32melse\u001b[0m\u001b[0;34m:\u001b[0m\u001b[0;34m\u001b[0m\u001b[0;34m\u001b[0m\u001b[0m\n",
      "\u001b[0;32m/Library/Frameworks/Python.framework/Versions/3.7/lib/python3.7/site-packages/astropy/table/connect.py\u001b[0m in \u001b[0;36m__call__\u001b[0;34m(self, *args, **kwargs)\u001b[0m\n\u001b[1;32m     59\u001b[0m         \u001b[0mdescriptions\u001b[0m \u001b[0;34m=\u001b[0m \u001b[0mkwargs\u001b[0m\u001b[0;34m.\u001b[0m\u001b[0mpop\u001b[0m\u001b[0;34m(\u001b[0m\u001b[0;34m'descriptions'\u001b[0m\u001b[0;34m,\u001b[0m \u001b[0;32mNone\u001b[0m\u001b[0;34m)\u001b[0m\u001b[0;34m\u001b[0m\u001b[0;34m\u001b[0m\u001b[0m\n\u001b[1;32m     60\u001b[0m \u001b[0;34m\u001b[0m\u001b[0m\n\u001b[0;32m---> 61\u001b[0;31m         \u001b[0mout\u001b[0m \u001b[0;34m=\u001b[0m \u001b[0mregistry\u001b[0m\u001b[0;34m.\u001b[0m\u001b[0mread\u001b[0m\u001b[0;34m(\u001b[0m\u001b[0mcls\u001b[0m\u001b[0;34m,\u001b[0m \u001b[0;34m*\u001b[0m\u001b[0margs\u001b[0m\u001b[0;34m,\u001b[0m \u001b[0;34m**\u001b[0m\u001b[0mkwargs\u001b[0m\u001b[0;34m)\u001b[0m\u001b[0;34m\u001b[0m\u001b[0;34m\u001b[0m\u001b[0m\n\u001b[0m\u001b[1;32m     62\u001b[0m \u001b[0;34m\u001b[0m\u001b[0m\n\u001b[1;32m     63\u001b[0m         \u001b[0;31m# For some readers (e.g., ascii.ecsv), the returned `out` class is not\u001b[0m\u001b[0;34m\u001b[0m\u001b[0;34m\u001b[0m\u001b[0;34m\u001b[0m\u001b[0m\n",
      "\u001b[0;32m/Library/Frameworks/Python.framework/Versions/3.7/lib/python3.7/site-packages/astropy/io/registry.py\u001b[0m in \u001b[0;36mread\u001b[0;34m(cls, format, cache, *args, **kwargs)\u001b[0m\n\u001b[1;32m    510\u001b[0m                     \u001b[0;32mtry\u001b[0m\u001b[0;34m:\u001b[0m\u001b[0;34m\u001b[0m\u001b[0;34m\u001b[0m\u001b[0m\n\u001b[1;32m    511\u001b[0m                         \u001b[0mctx\u001b[0m \u001b[0;34m=\u001b[0m \u001b[0mget_readable_fileobj\u001b[0m\u001b[0;34m(\u001b[0m\u001b[0margs\u001b[0m\u001b[0;34m[\u001b[0m\u001b[0;36m0\u001b[0m\u001b[0;34m]\u001b[0m\u001b[0;34m,\u001b[0m \u001b[0mencoding\u001b[0m\u001b[0;34m=\u001b[0m\u001b[0;34m'binary'\u001b[0m\u001b[0;34m,\u001b[0m \u001b[0mcache\u001b[0m\u001b[0;34m=\u001b[0m\u001b[0mcache\u001b[0m\u001b[0;34m)\u001b[0m\u001b[0;34m\u001b[0m\u001b[0;34m\u001b[0m\u001b[0m\n\u001b[0;32m--> 512\u001b[0;31m                         \u001b[0mfileobj\u001b[0m \u001b[0;34m=\u001b[0m \u001b[0mctx\u001b[0m\u001b[0;34m.\u001b[0m\u001b[0m__enter__\u001b[0m\u001b[0;34m(\u001b[0m\u001b[0;34m)\u001b[0m\u001b[0;34m\u001b[0m\u001b[0;34m\u001b[0m\u001b[0m\n\u001b[0m\u001b[1;32m    513\u001b[0m                     \u001b[0;32mexcept\u001b[0m \u001b[0mOSError\u001b[0m\u001b[0;34m:\u001b[0m\u001b[0;34m\u001b[0m\u001b[0;34m\u001b[0m\u001b[0m\n\u001b[1;32m    514\u001b[0m                         \u001b[0;32mraise\u001b[0m\u001b[0;34m\u001b[0m\u001b[0;34m\u001b[0m\u001b[0m\n",
      "\u001b[0;32m/Library/Frameworks/Python.framework/Versions/3.7/lib/python3.7/contextlib.py\u001b[0m in \u001b[0;36m__enter__\u001b[0;34m(self)\u001b[0m\n\u001b[1;32m    110\u001b[0m         \u001b[0;32mdel\u001b[0m \u001b[0mself\u001b[0m\u001b[0;34m.\u001b[0m\u001b[0margs\u001b[0m\u001b[0;34m,\u001b[0m \u001b[0mself\u001b[0m\u001b[0;34m.\u001b[0m\u001b[0mkwds\u001b[0m\u001b[0;34m,\u001b[0m \u001b[0mself\u001b[0m\u001b[0;34m.\u001b[0m\u001b[0mfunc\u001b[0m\u001b[0;34m\u001b[0m\u001b[0;34m\u001b[0m\u001b[0m\n\u001b[1;32m    111\u001b[0m         \u001b[0;32mtry\u001b[0m\u001b[0;34m:\u001b[0m\u001b[0;34m\u001b[0m\u001b[0;34m\u001b[0m\u001b[0m\n\u001b[0;32m--> 112\u001b[0;31m             \u001b[0;32mreturn\u001b[0m \u001b[0mnext\u001b[0m\u001b[0;34m(\u001b[0m\u001b[0mself\u001b[0m\u001b[0;34m.\u001b[0m\u001b[0mgen\u001b[0m\u001b[0;34m)\u001b[0m\u001b[0;34m\u001b[0m\u001b[0;34m\u001b[0m\u001b[0m\n\u001b[0m\u001b[1;32m    113\u001b[0m         \u001b[0;32mexcept\u001b[0m \u001b[0mStopIteration\u001b[0m\u001b[0;34m:\u001b[0m\u001b[0;34m\u001b[0m\u001b[0;34m\u001b[0m\u001b[0m\n\u001b[1;32m    114\u001b[0m             \u001b[0;32mraise\u001b[0m \u001b[0mRuntimeError\u001b[0m\u001b[0;34m(\u001b[0m\u001b[0;34m\"generator didn't yield\"\u001b[0m\u001b[0;34m)\u001b[0m \u001b[0;32mfrom\u001b[0m \u001b[0;32mNone\u001b[0m\u001b[0;34m\u001b[0m\u001b[0;34m\u001b[0m\u001b[0m\n",
      "\u001b[0;32m/Library/Frameworks/Python.framework/Versions/3.7/lib/python3.7/site-packages/astropy/utils/data.py\u001b[0m in \u001b[0;36mget_readable_fileobj\u001b[0;34m(name_or_obj, encoding, cache, show_progress, remote_timeout, sources, http_headers)\u001b[0m\n\u001b[1;32m    260\u001b[0m                 \u001b[0mtimeout\u001b[0m\u001b[0;34m=\u001b[0m\u001b[0mremote_timeout\u001b[0m\u001b[0;34m,\u001b[0m \u001b[0msources\u001b[0m\u001b[0;34m=\u001b[0m\u001b[0msources\u001b[0m\u001b[0;34m,\u001b[0m\u001b[0;34m\u001b[0m\u001b[0;34m\u001b[0m\u001b[0m\n\u001b[1;32m    261\u001b[0m                 http_headers=http_headers)\n\u001b[0;32m--> 262\u001b[0;31m         \u001b[0mfileobj\u001b[0m \u001b[0;34m=\u001b[0m \u001b[0mio\u001b[0m\u001b[0;34m.\u001b[0m\u001b[0mFileIO\u001b[0m\u001b[0;34m(\u001b[0m\u001b[0mname_or_obj\u001b[0m\u001b[0;34m,\u001b[0m \u001b[0;34m'r'\u001b[0m\u001b[0;34m)\u001b[0m\u001b[0;34m\u001b[0m\u001b[0;34m\u001b[0m\u001b[0m\n\u001b[0m\u001b[1;32m    263\u001b[0m         \u001b[0;32mif\u001b[0m \u001b[0mis_url\u001b[0m \u001b[0;32mand\u001b[0m \u001b[0;32mnot\u001b[0m \u001b[0mcache\u001b[0m\u001b[0;34m:\u001b[0m\u001b[0;34m\u001b[0m\u001b[0;34m\u001b[0m\u001b[0m\n\u001b[1;32m    264\u001b[0m             \u001b[0mdelete_fds\u001b[0m\u001b[0;34m.\u001b[0m\u001b[0mappend\u001b[0m\u001b[0;34m(\u001b[0m\u001b[0mfileobj\u001b[0m\u001b[0;34m)\u001b[0m\u001b[0;34m\u001b[0m\u001b[0;34m\u001b[0m\u001b[0m\n",
      "\u001b[0;31mFileNotFoundError\u001b[0m: [Errno 2] No such file or directory: '../data/GaiaDR3-Pal5-all.fits'"
     ]
    }
   ],
   "source": [
    "name = \"Pal5\"\n",
    "ms_name = \"Pal5-PW19\"\n",
    "g = GaiaData(f\"../data/GaiaDR3-{name}-all.fits\")\n",
    "p = phot.PS1Phot(\"../data/PS1DR2-Pal5_xm.fits\")\n",
>>>>>>> ba961f2fdda450f894aa26689fa98c1071b12fcb
    "gs = mws[ms_name]"
   ]
  },
  {
   "cell_type": "code",
<<<<<<< HEAD
   "execution_count": 30,
   "id": "c37d391f",
   "metadata": {},
   "outputs": [
    {
     "ename": "KeyError",
     "evalue": "'iMeanKronMag'",
     "output_type": "error",
     "traceback": [
      "\u001b[0;31m---------------------------------------------------------------------------\u001b[0m",
      "\u001b[0;31mKeyError\u001b[0m                                  Traceback (most recent call last)",
      "Cell \u001b[0;32mIn [30], line 1\u001b[0m\n\u001b[0;32m----> 1\u001b[0m joined \u001b[38;5;241m=\u001b[39m make_astro_photo_joined_data(g, p, gs)\n\u001b[1;32m      2\u001b[0m joined\u001b[38;5;241m.\u001b[39mwrite(\u001b[38;5;124m'\u001b[39m\u001b[38;5;124m../data/GD-1-joined.fits\u001b[39m\u001b[38;5;124m'\u001b[39m, overwrite\u001b[38;5;241m=\u001b[39m\u001b[38;5;28;01mTrue\u001b[39;00m)\n",
      "Cell \u001b[0;32mIn [3], line 28\u001b[0m, in \u001b[0;36mmake_astro_photo_joined_data\u001b[0;34m(gaia_data, phot_data, track6d)\u001b[0m\n\u001b[1;32m     26\u001b[0m \u001b[38;5;66;03m# get extinction-corrected photometry and star/galaxy mask\u001b[39;00m\n\u001b[1;32m     27\u001b[0m ext \u001b[38;5;241m=\u001b[39m phot_data\u001b[38;5;241m.\u001b[39mget_ext_corrected_phot()\n\u001b[0;32m---> 28\u001b[0m ext[\u001b[38;5;124m'\u001b[39m\u001b[38;5;124mstar_mask\u001b[39m\u001b[38;5;124m'\u001b[39m] \u001b[38;5;241m=\u001b[39m \u001b[43mp\u001b[49m\u001b[38;5;241;43m.\u001b[39;49m\u001b[43mget_star_mask\u001b[49m\u001b[43m(\u001b[49m\u001b[43m)\u001b[49m\n\u001b[1;32m     30\u001b[0m \u001b[38;5;66;03m# start building the final joined table \u001b[39;00m\n\u001b[1;32m     31\u001b[0m joined \u001b[38;5;241m=\u001b[39m g\u001b[38;5;241m.\u001b[39mdata\u001b[38;5;241m.\u001b[39mcopy()\n",
      "File \u001b[0;32m~/anaconda3/envs/cats/lib/python3.10/site-packages/cats-0.1-py3.10.egg/cats/photometry.py:118\u001b[0m, in \u001b[0;36mPS1Phot.get_star_mask\u001b[0;34m(self)\u001b[0m\n\u001b[1;32m    106\u001b[0m \u001b[38;5;28;01mdef\u001b[39;00m \u001b[38;5;21mget_star_mask\u001b[39m(\u001b[38;5;28mself\u001b[39m):\n\u001b[1;32m    107\u001b[0m     \u001b[38;5;124;03m\"\"\"\u001b[39;00m\n\u001b[1;32m    108\u001b[0m \u001b[38;5;124;03m    Star/galaxy separation for PS1\u001b[39;00m\n\u001b[1;32m    109\u001b[0m \n\u001b[0;32m   (...)\u001b[0m\n\u001b[1;32m    116\u001b[0m \u001b[38;5;124;03m        True where the stars are.\u001b[39;00m\n\u001b[1;32m    117\u001b[0m \u001b[38;5;124;03m    \"\"\"\u001b[39;00m\n\u001b[0;32m--> 118\u001b[0m     d_mag_mask \u001b[38;5;241m=\u001b[39m \u001b[38;5;28mself\u001b[39m\u001b[38;5;241m.\u001b[39mdata[\u001b[38;5;124m'\u001b[39m\u001b[38;5;124miMeanPSFMag\u001b[39m\u001b[38;5;124m'\u001b[39m] \u001b[38;5;241m-\u001b[39m \u001b[38;5;28;43mself\u001b[39;49m\u001b[38;5;241;43m.\u001b[39;49m\u001b[43mdata\u001b[49m\u001b[43m[\u001b[49m\u001b[38;5;124;43m'\u001b[39;49m\u001b[38;5;124;43miMeanKronMag\u001b[39;49m\u001b[38;5;124;43m'\u001b[39;49m\u001b[43m]\u001b[49m \u001b[38;5;241m<\u001b[39m \u001b[38;5;241m0.05\u001b[39m\n\u001b[1;32m    119\u001b[0m     \u001b[38;5;28;01mreturn\u001b[39;00m d_mag_mask\n",
      "File \u001b[0;32m~/anaconda3/envs/cats/lib/python3.10/site-packages/astropy/table/table.py:1872\u001b[0m, in \u001b[0;36mTable.__getitem__\u001b[0;34m(self, item)\u001b[0m\n\u001b[1;32m   1870\u001b[0m \u001b[38;5;28;01mdef\u001b[39;00m \u001b[38;5;21m__getitem__\u001b[39m(\u001b[38;5;28mself\u001b[39m, item):\n\u001b[1;32m   1871\u001b[0m     \u001b[38;5;28;01mif\u001b[39;00m \u001b[38;5;28misinstance\u001b[39m(item, \u001b[38;5;28mstr\u001b[39m):\n\u001b[0;32m-> 1872\u001b[0m         \u001b[38;5;28;01mreturn\u001b[39;00m \u001b[38;5;28;43mself\u001b[39;49m\u001b[38;5;241;43m.\u001b[39;49m\u001b[43mcolumns\u001b[49m\u001b[43m[\u001b[49m\u001b[43mitem\u001b[49m\u001b[43m]\u001b[49m\n\u001b[1;32m   1873\u001b[0m     \u001b[38;5;28;01melif\u001b[39;00m \u001b[38;5;28misinstance\u001b[39m(item, (\u001b[38;5;28mint\u001b[39m, np\u001b[38;5;241m.\u001b[39minteger)):\n\u001b[1;32m   1874\u001b[0m         \u001b[38;5;28;01mreturn\u001b[39;00m \u001b[38;5;28mself\u001b[39m\u001b[38;5;241m.\u001b[39mRow(\u001b[38;5;28mself\u001b[39m, item)\n",
      "File \u001b[0;32m~/anaconda3/envs/cats/lib/python3.10/site-packages/astropy/table/table.py:246\u001b[0m, in \u001b[0;36mTableColumns.__getitem__\u001b[0;34m(self, item)\u001b[0m\n\u001b[1;32m    236\u001b[0m \u001b[38;5;124;03m\"\"\"Get items from a TableColumns object.\u001b[39;00m\n\u001b[1;32m    237\u001b[0m \u001b[38;5;124;03m::\u001b[39;00m\n\u001b[1;32m    238\u001b[0m \n\u001b[0;32m   (...)\u001b[0m\n\u001b[1;32m    243\u001b[0m \u001b[38;5;124;03m  tc[1:3] # <TableColumns names=('b', 'c')>\u001b[39;00m\n\u001b[1;32m    244\u001b[0m \u001b[38;5;124;03m\"\"\"\u001b[39;00m\n\u001b[1;32m    245\u001b[0m \u001b[38;5;28;01mif\u001b[39;00m \u001b[38;5;28misinstance\u001b[39m(item, \u001b[38;5;28mstr\u001b[39m):\n\u001b[0;32m--> 246\u001b[0m     \u001b[38;5;28;01mreturn\u001b[39;00m \u001b[43mOrderedDict\u001b[49m\u001b[38;5;241;43m.\u001b[39;49m\u001b[38;5;21;43m__getitem__\u001b[39;49m\u001b[43m(\u001b[49m\u001b[38;5;28;43mself\u001b[39;49m\u001b[43m,\u001b[49m\u001b[43m \u001b[49m\u001b[43mitem\u001b[49m\u001b[43m)\u001b[49m\n\u001b[1;32m    247\u001b[0m \u001b[38;5;28;01melif\u001b[39;00m \u001b[38;5;28misinstance\u001b[39m(item, (\u001b[38;5;28mint\u001b[39m, np\u001b[38;5;241m.\u001b[39minteger)):\n\u001b[1;32m    248\u001b[0m     \u001b[38;5;28;01mreturn\u001b[39;00m \u001b[38;5;28mlist\u001b[39m(\u001b[38;5;28mself\u001b[39m\u001b[38;5;241m.\u001b[39mvalues())[item]\n",
      "\u001b[0;31mKeyError\u001b[0m: 'iMeanKronMag'"
=======
   "execution_count": 11,
   "id": "d7efbe39",
   "metadata": {
    "ExecuteTime": {
     "end_time": "2022-11-02T20:46:15.592591Z",
     "start_time": "2022-11-02T20:45:52.717442Z"
    }
   },
   "outputs": [
    {
     "name": "stdout",
     "output_type": "stream",
     "text": [
      "/mnt/home/apricewhelan/anaconda3/lib/python3.9/site-packages/astropy/io/fits/card.py:264: VerifyWarning: Keyword name 'band_names' is greater than 8 characters or contains characters not allowed by the FITS standard; a HIERARCH card will be created.\n",
      "  warnings.warn(\n",
      "\n"
>>>>>>> b93046e15764895650c559a0862ddf711c375552
     ]
    }
   ],
   "source": [
    "joined = make_astro_photo_joined_data(g, p, gs)\n",
    "joined.write(f\"../data/joined-{name}.fits\", overwrite=True)"
   ]
  },
  {
   "cell_type": "markdown",
   "id": "9dc9aacb",
   "metadata": {},
   "source": [
    "# Jhelum"
   ]
  },
  {
   "cell_type": "code",
   "execution_count": 19,
   "id": "6f75e5f7",
   "metadata": {
    "ExecuteTime": {
     "end_time": "2022-11-02T20:51:56.416737Z",
     "start_time": "2022-11-02T20:51:52.511003Z"
    }
   },
   "outputs": [],
   "source": [
    "tbl_gaia = at.Table.read(\"../data/GaiaDR3-Jhelum-all.fits\")\n",
    "tbl_des = at.Table.read(\"../data/Jhelum/jhelum_desy6.fits\")\n",
    "\n",
    "c_des = coord.SkyCoord(tbl_des[\"RA\"] * u.deg, tbl_des[\"DEC\"] * u.deg)\n",
    "c_gaia = coord.SkyCoord(tbl_gaia[\"ra\"] * u.deg, tbl_gaia[\"dec\"] * u.deg)"
   ]
  },
  {
   "cell_type": "code",
   "execution_count": 20,
   "id": "97488015",
   "metadata": {
    "ExecuteTime": {
     "end_time": "2022-11-02T20:52:13.603378Z",
     "start_time": "2022-11-02T20:52:08.175854Z"
    }
   },
   "outputs": [],
   "source": [
    "idx, sep, _ = c_gaia.match_to_catalog_sky(c_des)"
   ]
  },
  {
   "cell_type": "code",
   "execution_count": 27,
   "id": "912897a9",
   "metadata": {
    "ExecuteTime": {
     "end_time": "2022-11-02T20:53:15.703477Z",
     "start_time": "2022-11-02T20:53:14.519848Z"
    }
   },
   "outputs": [],
   "source": [
    "sep_mask = sep < 3 * u.arcsec\n",
    "tbl_des_sub = tbl_des[idx[sep_mask]]\n",
    "tbl_des_sub[\"source_id\"] = tbl_gaia[sep_mask][\"source_id\"]"
   ]
  },
  {
   "cell_type": "code",
   "execution_count": 29,
   "id": "70c4a5b0",
   "metadata": {
    "ExecuteTime": {
     "end_time": "2022-11-02T20:53:54.355333Z",
     "start_time": "2022-11-02T20:53:53.573199Z"
    }
   },
   "outputs": [],
   "source": [
    "name = \"Jhelum\"\n",
    "ms_name = \"Jhelum-b-B19\"\n",
    "g = GaiaData(f\"../data/GaiaDR3-{name}-all.fits\")\n",
    "p = phot.DESY6Phot(tbl_des_sub)\n",
    "gs = mws[ms_name]"
   ]
  },
  {
   "cell_type": "code",
   "execution_count": 30,
   "id": "b4aa499a",
   "metadata": {
    "ExecuteTime": {
     "end_time": "2022-11-02T20:54:23.392949Z",
     "start_time": "2022-11-02T20:54:02.244147Z"
    }
   },
   "outputs": [
    {
     "name": "stdout",
     "output_type": "stream",
     "text": [
      "/mnt/home/apricewhelan/anaconda3/lib/python3.9/site-packages/astropy/io/fits/card.py:264: VerifyWarning: Keyword name 'band_names' is greater than 8 characters or contains characters not allowed by the FITS standard; a HIERARCH card will be created.\n",
      "  warnings.warn(\n",
      "\n"
     ]
    }
   ],
   "source": [
    "joined = make_astro_photo_joined_data(g, p, gs)\n",
    "joined.write(f\"../data/joined-{name}.fits\", overwrite=True)"
   ]
  },
  {
   "cell_type": "markdown",
   "id": "54f8ff66",
   "metadata": {},
   "source": [
    "# PS1-A"
   ]
  },
  {
   "cell_type": "code",
   "execution_count": 31,
   "id": "e19fd792",
   "metadata": {
    "ExecuteTime": {
     "end_time": "2022-11-02T20:54:28.105108Z",
     "start_time": "2022-11-02T20:54:27.801670Z"
    }
   },
   "outputs": [],
   "source": [
    "name = \"PS1-A\"\n",
    "ms_name = \"PS1-A-B16\"\n",
    "g = GaiaData(f\"../data/GaiaDR3-{name}-all.fits\")\n",
    "p = phot.PS1Phot(\"../data/PS1DR2-PS1-A_xm.fits\")\n",
    "gs = mws[ms_name]"
   ]
  },
  {
   "cell_type": "code",
   "execution_count": 32,
   "id": "f16db284",
   "metadata": {
    "ExecuteTime": {
     "end_time": "2022-11-02T20:54:32.550507Z",
     "start_time": "2022-11-02T20:54:31.339253Z"
    }
   },
   "outputs": [
    {
     "name": "stdout",
     "output_type": "stream",
     "text": [
      "/mnt/home/apricewhelan/anaconda3/lib/python3.9/site-packages/astropy/io/fits/card.py:264: VerifyWarning: Keyword name 'band_names' is greater than 8 characters or contains characters not allowed by the FITS standard; a HIERARCH card will be created.\n",
      "  warnings.warn(\n",
      "\n"
     ]
    }
   ],
   "source": [
    "joined = make_astro_photo_joined_data(g, p, gs)\n",
    "joined.write(f\"../data/joined-{name}.fits\", overwrite=True)"
   ]
  },
  {
   "cell_type": "markdown",
   "id": "376b432d",
   "metadata": {},
   "source": [
    "# Fjorm"
   ]
  },
  {
   "cell_type": "code",
   "execution_count": 34,
   "id": "13683d10",
   "metadata": {
    "ExecuteTime": {
     "end_time": "2022-11-02T20:55:42.110553Z",
     "start_time": "2022-11-02T20:55:24.934867Z"
    }
   },
   "outputs": [],
   "source": [
    "name = \"Fjorm-M68\"\n",
    "ms_name = \"M68-P19\"\n",
    "g = GaiaData(f\"../data/GaiaDR3-{name}-all.fits\")\n",
    "p = phot.GaiaDR3Phot(g.data)\n",
    "gs = mws[ms_name]"
   ]
  },
  {
   "cell_type": "code",
   "execution_count": 35,
   "id": "80fdf47c",
   "metadata": {
    "ExecuteTime": {
     "end_time": "2022-11-02T20:59:34.778343Z",
     "start_time": "2022-11-02T20:55:55.609273Z"
    }
   },
   "outputs": [],
   "source": [
    "joined = make_astro_photo_joined_data(g, p, gs)\n",
    "joined.write(f\"../data/joined-{name}.fits\", overwrite=True)"
   ]
  },
  {
   "cell_type": "code",
   "execution_count": null,
   "id": "e0502347",
   "metadata": {},
   "outputs": [],
   "source": []
  }
 ],
 "metadata": {
  "kernelspec": {
<<<<<<< HEAD
<<<<<<< HEAD
   "display_name": "Python 3 (ipykernel)",
   "language": "python",
   "name": "python3"
=======
   "display_name": "adrian conda base",
   "language": "python",
   "name": "conda-base"
>>>>>>> b93046e15764895650c559a0862ddf711c375552
=======
   "display_name": "Python 3 (ipykernel)",
   "language": "python",
   "name": "python3"
>>>>>>> ba961f2fdda450f894aa26689fa98c1071b12fcb
  },
  "language_info": {
   "codemirror_mode": {
    "name": "ipython",
    "version": 3
   },
   "file_extension": ".py",
   "mimetype": "text/x-python",
   "name": "python",
   "nbconvert_exporter": "python",
   "pygments_lexer": "ipython3",
   "version": "3.10.9"
  },
  "toc": {
   "base_numbering": 1,
   "nav_menu": {},
   "number_sections": true,
   "sideBar": true,
   "skip_h1_title": false,
   "title_cell": "Table of Contents",
   "title_sidebar": "Contents",
   "toc_cell": false,
   "toc_position": {},
   "toc_section_display": true,
   "toc_window_display": false
  }
 },
 "nbformat": 4,
 "nbformat_minor": 5
}
