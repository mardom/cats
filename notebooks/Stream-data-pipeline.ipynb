{
 "cells": [
  {
   "cell_type": "code",
   "execution_count": 40,
   "id": "8912ba6d",
   "metadata": {
    "ExecuteTime": {
     "end_time": "2022-11-02T19:02:22.671328Z",
     "start_time": "2022-11-02T19:02:22.662094Z"
    }
   },
   "outputs": [],
   "source": [
    "import astropy.coordinates as coord\n",
    "import astropy.table as at\n",
    "import astropy.units as u\n",
    "import matplotlib as mpl\n",
    "import matplotlib.pyplot as plt\n",
    "%matplotlib inline\n",
    "import numpy as np\n",
    "import scipy.interpolate as sci\n",
    "\n",
    "import gala.coordinates as gc\n",
    "from pyia import GaiaData\n",
    "import galstreams\n",
    "import cats.photometry as phot"
   ]
  },
  {
   "cell_type": "code",
   "execution_count": 18,
   "id": "3a11d318",
   "metadata": {
    "ExecuteTime": {
     "end_time": "2022-11-02T18:52:32.263032Z",
     "start_time": "2022-11-02T18:52:22.450705Z"
    }
   },
   "outputs": [
    {
     "name": "stdout",
     "output_type": "stream",
     "text": [
      "Initializing galstreams library from master_log... \n"
     ]
    }
   ],
   "source": [
    "mws = galstreams.MWStreams(verbose=False, implement_Off=True)"
   ]
  },
  {
   "cell_type": "code",
   "execution_count": 19,
   "id": "d9c1f467",
   "metadata": {
    "ExecuteTime": {
     "end_time": "2022-11-02T18:52:38.784395Z",
     "start_time": "2022-11-02T18:52:38.781627Z"
    }
   },
   "outputs": [],
   "source": [
    "# streams = {\n",
    "#     'GD-1': 'GD-1-PB18',\n",
    "#     'Pal5': 'Pal5-PW19',\n",
    "#     'Jhelum': 'Jhelum-b-B19',\n",
    "#     'Fjorm-M68': 'M68-P19',\n",
    "#     'PS1-A': 'PS1-A-B16',\n",
    "# }"
   ]
  },
  {
   "cell_type": "code",
   "execution_count": 49,
   "id": "e91b9768",
   "metadata": {
    "ExecuteTime": {
     "end_time": "2022-11-02T20:33:09.203135Z",
     "start_time": "2022-11-02T20:33:09.174047Z"
    }
   },
   "outputs": [],
   "source": [
    "def make_astro_photo_joined_data(gaia_data, phot_data, track6d):\n",
    "    stream_fr = gs.stream_frame\n",
    "    \n",
    "    track = gs.track.transform_to(stream_fr)\n",
    "    if np.all(track.distance.value == 0):\n",
    "        raise ValueError(\n",
    "            \"A distance track is required: this stream has no distance information in \"\n",
    "            \"the galstreams track.\"\n",
    "            \n",
    "        )\n",
    "    \n",
    "    # interpolator to get predicted distance from phi1\n",
    "    dist_interp = sci.InterpolatedUnivariateSpline(\n",
    "        track.phi1.degree, track.distance.value, k=1\n",
    "    )\n",
    "    \n",
    "    # get stream coordinates for all stars, and reflex correct with predicted distance\n",
    "    _c_tmp = gaia_data.get_skycoord(distance=False).transform_to(stream_fr)\n",
    "    c = gaia_data.get_skycoord(\n",
    "        distance=dist_interp(_c_tmp.phi1.degree) * track.distance.unit,\n",
    "        radial_velocity=0*u.km/u.s\n",
    "    )\n",
    "    c_stream = c.transform_to(stream_fr)\n",
    "    c_stream_refl = gc.reflex_correct(c_stream)\n",
    "    \n",
    "    # get extinction-corrected photometry and star/galaxy mask\n",
    "    ext = phot_data.get_ext_corrected_phot()\n",
    "    ext['star_mask'] = p.get_star_mask()\n",
    "    \n",
    "    # start building the final joined table \n",
    "    joined = g.data.copy()\n",
    "    for name in ['phi1', 'phi2', 'pm_phi1_cosphi2', 'pm_phi2']:\n",
    "        joined[name] = getattr(c_stream_refl, name)\n",
    "        if name not in ['phi1', 'phi2']:\n",
    "            joined[f\"{name}_unrefl\"] = getattr(c_stream, name)\n",
    "            \n",
    "    phot_full = at.hstack([phot_data.data, ext])\n",
    "    cols = ['source_id', 'star_mask'] + [b for b in ext.colnames if b.endswith('0')]\n",
    "    phot_min = phot_full[cols]\n",
    "    \n",
    "    joined = at.join(joined, phot_min, keys='source_id')\n",
    "    joined = at.unique(joined, keys='source_id')\n",
    "    \n",
    "    return joined"
   ]
  },
  {
   "cell_type": "markdown",
   "id": "fe94cf53",
   "metadata": {},
   "source": [
    "# GD-1"
   ]
  },
  {
   "cell_type": "code",
   "execution_count": 21,
   "id": "b80436b6",
   "metadata": {
    "ExecuteTime": {
     "end_time": "2022-11-02T18:53:19.429670Z",
     "start_time": "2022-11-02T18:53:13.952194Z"
    }
   },
   "outputs": [],
   "source": [
    "ms_name = 'GD-1-PB18'\n",
    "g = GaiaData('../data/GaiaDR3-GD-1-all.fits')\n",
    "p = phot.PS1Phot('../data/PS1DR2-GD-1_xm.fits')\n",
    "gs = mws[ms_name]"
   ]
  },
  {
   "cell_type": "code",
   "execution_count": 52,
   "id": "05bc6768",
   "metadata": {
    "ExecuteTime": {
     "end_time": "2022-11-02T20:35:35.013549Z",
     "start_time": "2022-11-02T20:35:31.223107Z"
    }
   },
   "outputs": [
    {
     "ename": "KeyboardInterrupt",
     "evalue": "",
     "output_type": "error",
     "traceback": [
      "\u001b[0;31m---------------------------------------------------------------------------\u001b[0m",
      "\u001b[0;31mKeyboardInterrupt\u001b[0m                         Traceback (most recent call last)",
      "Cell \u001b[0;32mIn [52], line 1\u001b[0m\n\u001b[0;32m----> 1\u001b[0m joined \u001b[38;5;241m=\u001b[39m \u001b[43mmake_astro_photo_joined_data\u001b[49m\u001b[43m(\u001b[49m\u001b[43mg\u001b[49m\u001b[43m,\u001b[49m\u001b[43m \u001b[49m\u001b[43mp\u001b[49m\u001b[43m,\u001b[49m\u001b[43m \u001b[49m\u001b[43mgs\u001b[49m\u001b[43m)\u001b[49m\n\u001b[1;32m      2\u001b[0m \u001b[38;5;66;03m# joined.write('../data/GD-1-joined.fits', overwrite=True)\u001b[39;00m\n",
      "Cell \u001b[0;32mIn [49], line 18\u001b[0m, in \u001b[0;36mmake_astro_photo_joined_data\u001b[0;34m(gaia_data, phot_data, track6d)\u001b[0m\n\u001b[1;32m     13\u001b[0m dist_interp \u001b[38;5;241m=\u001b[39m sci\u001b[38;5;241m.\u001b[39mInterpolatedUnivariateSpline(\n\u001b[1;32m     14\u001b[0m     track\u001b[38;5;241m.\u001b[39mphi1\u001b[38;5;241m.\u001b[39mdegree, track\u001b[38;5;241m.\u001b[39mdistance\u001b[38;5;241m.\u001b[39mvalue, k\u001b[38;5;241m=\u001b[39m\u001b[38;5;241m1\u001b[39m\n\u001b[1;32m     15\u001b[0m )\n\u001b[1;32m     17\u001b[0m \u001b[38;5;66;03m# get stream coordinates for all stars, and reflex correct with predicted distance\u001b[39;00m\n\u001b[0;32m---> 18\u001b[0m _c_tmp \u001b[38;5;241m=\u001b[39m \u001b[43mgaia_data\u001b[49m\u001b[38;5;241;43m.\u001b[39;49m\u001b[43mget_skycoord\u001b[49m\u001b[43m(\u001b[49m\u001b[43mdistance\u001b[49m\u001b[38;5;241;43m=\u001b[39;49m\u001b[38;5;28;43;01mFalse\u001b[39;49;00m\u001b[43m)\u001b[49m\u001b[38;5;241m.\u001b[39mtransform_to(stream_fr)\n\u001b[1;32m     19\u001b[0m c \u001b[38;5;241m=\u001b[39m gaia_data\u001b[38;5;241m.\u001b[39mget_skycoord(\n\u001b[1;32m     20\u001b[0m     distance\u001b[38;5;241m=\u001b[39mdist_interp(_c_tmp\u001b[38;5;241m.\u001b[39mphi1\u001b[38;5;241m.\u001b[39mdegree) \u001b[38;5;241m*\u001b[39m track\u001b[38;5;241m.\u001b[39mdistance\u001b[38;5;241m.\u001b[39munit,\n\u001b[1;32m     21\u001b[0m     radial_velocity\u001b[38;5;241m=\u001b[39m\u001b[38;5;241m0\u001b[39m\u001b[38;5;241m*\u001b[39mu\u001b[38;5;241m.\u001b[39mkm\u001b[38;5;241m/\u001b[39mu\u001b[38;5;241m.\u001b[39ms\n\u001b[1;32m     22\u001b[0m )\n\u001b[1;32m     23\u001b[0m c_stream \u001b[38;5;241m=\u001b[39m c\u001b[38;5;241m.\u001b[39mtransform_to(stream_fr)\n",
      "File \u001b[0;32m~/anaconda3/envs/cats-test/lib/python3.10/site-packages/pyia/data.py:652\u001b[0m, in \u001b[0;36mGaiaData.get_skycoord\u001b[0;34m(self, distance, radial_velocity, ref_epoch)\u001b[0m\n\u001b[1;32m    649\u001b[0m \u001b[38;5;28;01melif\u001b[39;00m distance \u001b[38;5;129;01mis\u001b[39;00m \u001b[38;5;129;01mnot\u001b[39;00m \u001b[38;5;28;01mFalse\u001b[39;00m \u001b[38;5;129;01mand\u001b[39;00m distance \u001b[38;5;129;01mis\u001b[39;00m \u001b[38;5;129;01mnot\u001b[39;00m \u001b[38;5;28;01mNone\u001b[39;00m:\n\u001b[1;32m    650\u001b[0m     kw[\u001b[38;5;124m'\u001b[39m\u001b[38;5;124mdistance\u001b[39m\u001b[38;5;124m'\u001b[39m] \u001b[38;5;241m=\u001b[39m distance\n\u001b[0;32m--> 652\u001b[0m \u001b[38;5;28mself\u001b[39m\u001b[38;5;241m.\u001b[39m_cache[\u001b[38;5;124m'\u001b[39m\u001b[38;5;124mcoord\u001b[39m\u001b[38;5;124m'\u001b[39m] \u001b[38;5;241m=\u001b[39m coord\u001b[38;5;241m.\u001b[39mSkyCoord(ra\u001b[38;5;241m=\u001b[39m\u001b[38;5;28;43mself\u001b[39;49m\u001b[38;5;241;43m.\u001b[39;49m\u001b[43mra\u001b[49m, dec\u001b[38;5;241m=\u001b[39m\u001b[38;5;28mself\u001b[39m\u001b[38;5;241m.\u001b[39mdec,\n\u001b[1;32m    653\u001b[0m                                       pm_ra_cosdec\u001b[38;5;241m=\u001b[39m\u001b[38;5;28mself\u001b[39m\u001b[38;5;241m.\u001b[39mpmra,\n\u001b[1;32m    654\u001b[0m                                       pm_dec\u001b[38;5;241m=\u001b[39m\u001b[38;5;28mself\u001b[39m\u001b[38;5;241m.\u001b[39mpmdec, \u001b[38;5;241m*\u001b[39m\u001b[38;5;241m*\u001b[39mkw)\n\u001b[1;32m    655\u001b[0m \u001b[38;5;28mself\u001b[39m\u001b[38;5;241m.\u001b[39m_cache[\u001b[38;5;124m'\u001b[39m\u001b[38;5;124mcoord_opts\u001b[39m\u001b[38;5;124m'\u001b[39m] \u001b[38;5;241m=\u001b[39m _coord_opts\n\u001b[1;32m    657\u001b[0m \u001b[38;5;28;01mreturn\u001b[39;00m \u001b[38;5;28mself\u001b[39m\u001b[38;5;241m.\u001b[39m_cache[\u001b[38;5;124m'\u001b[39m\u001b[38;5;124mcoord\u001b[39m\u001b[38;5;124m'\u001b[39m]\n",
      "File \u001b[0;32m~/anaconda3/envs/cats-test/lib/python3.10/site-packages/pyia/data.py:272\u001b[0m, in \u001b[0;36mGaiaData.__getattr__\u001b[0;34m(self, name)\u001b[0m\n\u001b[1;32m    269\u001b[0m arr \u001b[38;5;241m=\u001b[39m np\u001b[38;5;241m.\u001b[39masarray(arr)\n\u001b[1;32m    271\u001b[0m \u001b[38;5;28;01mif\u001b[39;00m name \u001b[38;5;129;01min\u001b[39;00m \u001b[38;5;28mself\u001b[39m\u001b[38;5;241m.\u001b[39munits:\n\u001b[0;32m--> 272\u001b[0m     \u001b[38;5;28;01mreturn\u001b[39;00m \u001b[43marr\u001b[49m\u001b[43m \u001b[49m\u001b[38;5;241;43m*\u001b[39;49m\u001b[43m \u001b[49m\u001b[38;5;28;43mself\u001b[39;49m\u001b[38;5;241;43m.\u001b[39;49m\u001b[43munits\u001b[49m\u001b[43m[\u001b[49m\u001b[43mname\u001b[49m\u001b[43m]\u001b[49m\n\u001b[1;32m    274\u001b[0m \u001b[38;5;28;01melse\u001b[39;00m:\n\u001b[1;32m    275\u001b[0m     \u001b[38;5;28;01mreturn\u001b[39;00m arr\n",
      "File \u001b[0;32m~/anaconda3/envs/cats-test/lib/python3.10/site-packages/astropy/units/core.py:845\u001b[0m, in \u001b[0;36mUnitBase.__rmul__\u001b[0;34m(self, m)\u001b[0m\n\u001b[1;32m    843\u001b[0m         \u001b[38;5;28;01mreturn\u001b[39;00m result\n\u001b[1;32m    844\u001b[0m     \u001b[38;5;28;01melse\u001b[39;00m:\n\u001b[0;32m--> 845\u001b[0m         \u001b[38;5;28;01mreturn\u001b[39;00m \u001b[43mQuantity\u001b[49m\u001b[43m(\u001b[49m\u001b[43mm\u001b[49m\u001b[43m,\u001b[49m\u001b[43m \u001b[49m\u001b[38;5;28;43mself\u001b[39;49m\u001b[43m)\u001b[49m\n\u001b[1;32m    846\u001b[0m \u001b[38;5;28;01mexcept\u001b[39;00m \u001b[38;5;167;01mTypeError\u001b[39;00m:\n\u001b[1;32m    847\u001b[0m     \u001b[38;5;28;01mreturn\u001b[39;00m \u001b[38;5;28mNotImplemented\u001b[39m\n",
      "File \u001b[0;32m~/anaconda3/envs/cats-test/lib/python3.10/site-packages/astropy/units/quantity.py:502\u001b[0m, in \u001b[0;36mQuantity.__new__\u001b[0;34m(cls, value, unit, dtype, copy, order, subok, ndmin)\u001b[0m\n\u001b[1;32m    499\u001b[0m         \u001b[38;5;28;01melif\u001b[39;00m unit \u001b[38;5;129;01mis\u001b[39;00m \u001b[38;5;129;01mnot\u001b[39;00m value_unit:\n\u001b[1;32m    500\u001b[0m             copy \u001b[38;5;241m=\u001b[39m \u001b[38;5;28;01mFalse\u001b[39;00m  \u001b[38;5;66;03m# copy will be made in conversion at end\u001b[39;00m\n\u001b[0;32m--> 502\u001b[0m value \u001b[38;5;241m=\u001b[39m \u001b[43mnp\u001b[49m\u001b[38;5;241;43m.\u001b[39;49m\u001b[43marray\u001b[49m\u001b[43m(\u001b[49m\u001b[43mvalue\u001b[49m\u001b[43m,\u001b[49m\u001b[43m \u001b[49m\u001b[43mdtype\u001b[49m\u001b[38;5;241;43m=\u001b[39;49m\u001b[43mdtype\u001b[49m\u001b[43m,\u001b[49m\u001b[43m \u001b[49m\u001b[43mcopy\u001b[49m\u001b[38;5;241;43m=\u001b[39;49m\u001b[43mcopy\u001b[49m\u001b[43m,\u001b[49m\u001b[43m \u001b[49m\u001b[43morder\u001b[49m\u001b[38;5;241;43m=\u001b[39;49m\u001b[43morder\u001b[49m\u001b[43m,\u001b[49m\n\u001b[1;32m    503\u001b[0m \u001b[43m                 \u001b[49m\u001b[43msubok\u001b[49m\u001b[38;5;241;43m=\u001b[39;49m\u001b[38;5;28;43;01mTrue\u001b[39;49;00m\u001b[43m,\u001b[49m\u001b[43m \u001b[49m\u001b[43mndmin\u001b[49m\u001b[38;5;241;43m=\u001b[39;49m\u001b[43mndmin\u001b[49m\u001b[43m)\u001b[49m\n\u001b[1;32m    505\u001b[0m \u001b[38;5;66;03m# check that array contains numbers or long int objects\u001b[39;00m\n\u001b[1;32m    506\u001b[0m \u001b[38;5;28;01mif\u001b[39;00m (value\u001b[38;5;241m.\u001b[39mdtype\u001b[38;5;241m.\u001b[39mkind \u001b[38;5;129;01min\u001b[39;00m \u001b[38;5;124m'\u001b[39m\u001b[38;5;124mOSU\u001b[39m\u001b[38;5;124m'\u001b[39m \u001b[38;5;129;01mand\u001b[39;00m\n\u001b[1;32m    507\u001b[0m     \u001b[38;5;129;01mnot\u001b[39;00m (value\u001b[38;5;241m.\u001b[39mdtype\u001b[38;5;241m.\u001b[39mkind \u001b[38;5;241m==\u001b[39m \u001b[38;5;124m'\u001b[39m\u001b[38;5;124mO\u001b[39m\u001b[38;5;124m'\u001b[39m \u001b[38;5;129;01mand\u001b[39;00m\n\u001b[1;32m    508\u001b[0m          \u001b[38;5;28misinstance\u001b[39m(value\u001b[38;5;241m.\u001b[39mitem(\u001b[38;5;241m0\u001b[39m), numbers\u001b[38;5;241m.\u001b[39mNumber))):\n",
      "\u001b[0;31mKeyboardInterrupt\u001b[0m: "
     ]
    }
   ],
   "source": [
    "joined = make_astro_photo_joined_data(g, p, gs)\n",
    "# joined.write('../data/GD-1-joined.fits', overwrite=True)"
   ]
  },
  {
   "cell_type": "markdown",
   "id": "1d9d3109",
   "metadata": {},
   "source": [
    "# Pal 5"
   ]
  },
  {
   "cell_type": "code",
   "execution_count": null,
   "id": "cc3414bf",
   "metadata": {},
   "outputs": [],
   "source": [
    "ms_name = 'Pal5-PW19'\n",
    "g = GaiaData('../data/GaiaDR3-')\n",
    "p = phot.PS1Phot('../data/PS1DR2-GD-1_xm.fits')\n",
    "gs = mws[ms_name]"
   ]
  },
  {
   "cell_type": "code",
   "execution_count": null,
   "id": "c37d391f",
   "metadata": {},
   "outputs": [],
   "source": [
    "joined = make_astro_photo_joined_data(g, p, gs)\n",
    "joined.write('../data/GD-1-joined.fits', overwrite=True)"
   ]
  },
  {
   "cell_type": "code",
   "execution_count": null,
   "id": "7e3200a6",
   "metadata": {},
   "outputs": [],
   "source": []
  },
  {
   "cell_type": "code",
   "execution_count": null,
   "id": "59173c1c",
   "metadata": {},
   "outputs": [],
   "source": []
  },
  {
   "cell_type": "markdown",
   "id": "f3dbbab6",
   "metadata": {},
   "source": [
    "# Jhelum"
   ]
  },
  {
   "cell_type": "code",
   "execution_count": null,
   "id": "bb866afd",
   "metadata": {},
   "outputs": [],
   "source": [
    "phot.DESY6('../data/Jhelum/jhelum_desy6.fits')"
   ]
  },
  {
   "cell_type": "code",
   "execution_count": null,
   "id": "bcb60900",
   "metadata": {},
   "outputs": [],
   "source": []
  },
  {
   "cell_type": "code",
   "execution_count": null,
   "id": "9dd792bf",
   "metadata": {},
   "outputs": [],
   "source": []
  },
  {
   "cell_type": "code",
   "execution_count": null,
   "id": "1ebff597",
   "metadata": {},
   "outputs": [],
   "source": []
  },
  {
   "cell_type": "markdown",
   "id": "d7ce7166",
   "metadata": {},
   "source": [
    "# PS1-A"
   ]
  },
  {
   "cell_type": "code",
   "execution_count": null,
   "id": "51399da2",
   "metadata": {},
   "outputs": [],
   "source": []
  },
  {
   "cell_type": "code",
   "execution_count": null,
   "id": "48b26a20",
   "metadata": {},
   "outputs": [],
   "source": []
  },
  {
   "cell_type": "markdown",
   "id": "977d0677",
   "metadata": {},
   "source": [
    "# Fjorm"
   ]
  },
  {
   "cell_type": "code",
   "execution_count": null,
   "id": "56897c32",
   "metadata": {},
   "outputs": [],
   "source": []
  },
  {
   "cell_type": "code",
   "execution_count": null,
   "id": "c549a48e",
   "metadata": {},
   "outputs": [],
   "source": []
  },
  {
   "cell_type": "markdown",
   "id": "a44b3ba7",
   "metadata": {},
   "source": [
    "# PS1 test:"
   ]
  },
  {
   "cell_type": "code",
   "execution_count": null,
   "id": "9086becd",
   "metadata": {},
   "outputs": [],
   "source": [
    "from cats.photometry import PS1"
   ]
  },
  {
   "cell_type": "code",
   "execution_count": 3,
   "id": "d54abadf",
   "metadata": {
    "ExecuteTime": {
     "end_time": "2022-11-02T18:10:25.567964Z",
     "start_time": "2022-11-02T18:10:25.483809Z"
    }
   },
   "outputs": [],
   "source": [
    "ps1 = PS1('../data/PS1DR2-PS1-A_xm.fits')"
   ]
  },
  {
   "cell_type": "code",
   "execution_count": 8,
   "id": "b2645439",
   "metadata": {
    "ExecuteTime": {
     "end_time": "2022-11-02T18:11:43.017339Z",
     "start_time": "2022-11-02T18:11:42.784943Z"
    }
   },
   "outputs": [
    {
     "data": {
      "text/html": [
       "<div><i>Table length=3</i>\n",
       "<table id=\"table5630569792\" class=\"table-striped table-bordered table-condensed\">\n",
       "<thead><tr><th>A_gMeanPSFMag</th><th>gMeanPSFMag_0</th><th>A_rMeanPSFMag</th><th>rMeanPSFMag_0</th><th>A_iMeanPSFMag</th><th>iMeanPSFMag_0</th><th>A_zMeanPSFMag</th><th>zMeanPSFMag_0</th><th>A_yMeanPSFMag</th><th>yMeanPSFMag_0</th></tr></thead>\n",
       "<thead><tr><th>float32</th><th>float64</th><th>float32</th><th>float64</th><th>float32</th><th>float64</th><th>float32</th><th>float64</th><th>float32</th><th>float64</th></tr></thead>\n",
       "<tr><td>0.060273785</td><td>16.824726443737745</td><td>0.04315314</td><td>16.541947033256292</td><td>0.03196107</td><td>16.44293822348118</td><td>0.025120413</td><td>16.44757970608771</td><td>0.020654984</td><td>16.420545272529125</td></tr>\n",
       "<tr><td>0.06000212</td><td>21.573298662900925</td><td>0.04295864</td><td>20.57894191890955</td><td>0.03181701</td><td>19.97248215228319</td><td>0.025007188</td><td>19.750692427158356</td><td>0.020561887</td><td>19.541337298229337</td></tr>\n",
       "<tr><td>0.0593879</td><td>20.078511498868465</td><td>0.04251889</td><td>19.656980238854885</td><td>0.031491317</td><td>19.49820800870657</td><td>0.024751201</td><td>19.41864822804928</td><td>0.020351402</td><td>19.335248954594135</td></tr>\n",
       "</table></div>"
      ],
      "text/plain": [
       "<Table length=3>\n",
       "A_gMeanPSFMag   gMeanPSFMag_0    A_rMeanPSFMag   rMeanPSFMag_0    A_iMeanPSFMag   iMeanPSFMag_0   A_zMeanPSFMag   zMeanPSFMag_0    A_yMeanPSFMag   yMeanPSFMag_0   \n",
       "   float32         float64          float32         float64          float32         float64         float32         float64          float32         float64      \n",
       "------------- ------------------ ------------- ------------------ ------------- ----------------- ------------- ------------------ ------------- ------------------\n",
       "  0.060273785 16.824726443737745    0.04315314 16.541947033256292    0.03196107 16.44293822348118   0.025120413  16.44757970608771   0.020654984 16.420545272529125\n",
       "   0.06000212 21.573298662900925    0.04295864  20.57894191890955    0.03181701 19.97248215228319   0.025007188 19.750692427158356   0.020561887 19.541337298229337\n",
       "    0.0593879 20.078511498868465    0.04251889 19.656980238854885   0.031491317 19.49820800870657   0.024751201  19.41864822804928   0.020351402 19.335248954594135"
      ]
     },
     "execution_count": 8,
     "metadata": {},
     "output_type": "execute_result"
    }
   ],
   "source": [
    "ext = ps1.get_ext_corrected_phot()\n",
    "star_mask = ps1.get_star_mask()\n",
    "\n",
    "ext[:3]"
   ]
  },
  {
   "cell_type": "code",
   "execution_count": null,
   "id": "67b005d8",
   "metadata": {},
   "outputs": [],
   "source": []
  },
  {
   "cell_type": "markdown",
   "id": "07399400",
   "metadata": {},
   "source": [
    "# Gaia:"
   ]
  },
  {
   "cell_type": "code",
   "execution_count": 1,
   "id": "e8e38921",
   "metadata": {
    "ExecuteTime": {
     "end_time": "2022-11-02T18:34:27.870340Z",
     "start_time": "2022-11-02T18:34:27.135683Z"
    }
   },
   "outputs": [],
   "source": [
    "from cats.photometry import GaiaDR3"
   ]
  },
  {
   "cell_type": "code",
   "execution_count": 2,
   "id": "8e529296",
   "metadata": {
    "ExecuteTime": {
     "end_time": "2022-11-02T18:34:28.587954Z",
     "start_time": "2022-11-02T18:34:27.872569Z"
    }
   },
   "outputs": [],
   "source": [
    "gaia = GaiaDR3('../data/GaiaDR3-Jhelum-all.fits')"
   ]
  },
  {
   "cell_type": "code",
   "execution_count": 3,
   "id": "b3730d47",
   "metadata": {
    "ExecuteTime": {
     "end_time": "2022-11-02T18:34:30.776026Z",
     "start_time": "2022-11-02T18:34:28.588803Z"
    }
   },
   "outputs": [],
   "source": [
    "ext = gaia.get_ext_corrected_phot()"
   ]
  },
  {
   "cell_type": "code",
   "execution_count": 4,
   "id": "5e31f139",
   "metadata": {
    "ExecuteTime": {
     "end_time": "2022-11-02T18:34:30.781866Z",
     "start_time": "2022-11-02T18:34:30.777249Z"
    }
   },
   "outputs": [
    {
     "data": {
      "text/html": [
       "<div><i>Table length=3</i>\n",
       "<table id=\"table4969589840\" class=\"table-striped table-bordered table-condensed\">\n",
       "<thead><tr><th>A_G</th><th>G0</th><th>A_BP</th><th>BP0</th><th>A_RP</th><th>RP0</th></tr></thead>\n",
       "<thead><tr><th>float32</th><th>float32</th><th>float32</th><th>float32</th><th>float32</th><th>float32</th></tr></thead>\n",
       "<tr><td>0.0435073</td><td>16.323257</td><td>0.05504485</td><td>16.640823</td><td>0.030577885</td><td>15.849213</td></tr>\n",
       "<tr><td>0.043066513</td><td>16.685736</td><td>0.05455922</td><td>17.006218</td><td>0.030336939</td><td>16.198462</td></tr>\n",
       "<tr><td>0.035442032</td><td>19.337635</td><td>0.052523</td><td>20.453585</td><td>0.029214298</td><td>18.329704</td></tr>\n",
       "</table></div>"
      ],
      "text/plain": [
       "<Table length=3>\n",
       "    A_G         G0       A_BP       BP0        A_RP       RP0   \n",
       "  float32    float32   float32    float32    float32    float32 \n",
       "----------- --------- ---------- --------- ----------- ---------\n",
       "  0.0435073 16.323257 0.05504485 16.640823 0.030577885 15.849213\n",
       "0.043066513 16.685736 0.05455922 17.006218 0.030336939 16.198462\n",
       "0.035442032 19.337635   0.052523 20.453585 0.029214298 18.329704"
      ]
     },
     "execution_count": 4,
     "metadata": {},
     "output_type": "execute_result"
    }
   ],
   "source": [
    "ext[:3]"
   ]
  },
  {
   "cell_type": "code",
   "execution_count": null,
   "id": "7bfded69",
   "metadata": {},
   "outputs": [],
   "source": []
  },
  {
   "cell_type": "code",
   "execution_count": null,
   "id": "26825798",
   "metadata": {},
   "outputs": [],
   "source": []
  },
  {
   "cell_type": "markdown",
   "id": "5d57c993",
   "metadata": {},
   "source": [
    "# DES test:"
   ]
  },
  {
   "cell_type": "code",
   "execution_count": 1,
   "id": "1a7b0ca1",
   "metadata": {
    "ExecuteTime": {
     "end_time": "2022-11-02T18:28:08.803442Z",
     "start_time": "2022-11-02T18:28:08.101188Z"
    }
   },
   "outputs": [],
   "source": [
    "from cats.photometry import DESY6"
   ]
  },
  {
   "cell_type": "code",
   "execution_count": 2,
   "id": "b4e62b02",
   "metadata": {
    "ExecuteTime": {
     "end_time": "2022-11-02T18:28:11.306838Z",
     "start_time": "2022-11-02T18:28:08.804361Z"
    }
   },
   "outputs": [],
   "source": [
    "des = DESY6('../data/Jhelum/jhelum_desy6.fits')"
   ]
  },
  {
   "cell_type": "code",
   "execution_count": 3,
   "id": "0e933ede",
   "metadata": {
    "ExecuteTime": {
     "end_time": "2022-11-02T18:28:14.068949Z",
     "start_time": "2022-11-02T18:28:11.308378Z"
    }
   },
   "outputs": [],
   "source": [
    "ext = des.get_ext_corrected_phot()"
   ]
  },
  {
   "cell_type": "code",
   "execution_count": 4,
   "id": "d0642b99",
   "metadata": {
    "ExecuteTime": {
     "end_time": "2022-11-02T18:28:14.075364Z",
     "start_time": "2022-11-02T18:28:14.070062Z"
    }
   },
   "outputs": [
    {
     "data": {
      "text/html": [
       "<div><i>Table length=3</i>\n",
       "<table id=\"table5228755600\" class=\"table-striped table-bordered table-condensed\">\n",
       "<thead><tr><th>A_g</th><th>g0</th><th>A_r</th><th>r0</th></tr></thead>\n",
       "<thead><tr><th>float32</th><th>float64</th><th>float32</th><th>float64</th></tr></thead>\n",
       "<tr><td>0.0524416</td><td>20.175627147879865</td><td>0.035252683</td><td>19.024862682415737</td></tr>\n",
       "<tr><td>0.05348761</td><td>19.689535929914882</td><td>0.03595584</td><td>19.110654449832712</td></tr>\n",
       "<tr><td>0.054753695</td><td>24.834807728067002</td><td>0.036806934</td><td>24.72642080687828</td></tr>\n",
       "</table></div>"
      ],
      "text/plain": [
       "<Table length=3>\n",
       "    A_g             g0             A_r             r0        \n",
       "  float32        float64         float32        float64      \n",
       "----------- ------------------ ----------- ------------------\n",
       "  0.0524416 20.175627147879865 0.035252683 19.024862682415737\n",
       " 0.05348761 19.689535929914882  0.03595584 19.110654449832712\n",
       "0.054753695 24.834807728067002 0.036806934  24.72642080687828"
      ]
     },
     "execution_count": 4,
     "metadata": {},
     "output_type": "execute_result"
    }
   ],
   "source": [
    "ext[:3]"
   ]
  },
  {
   "cell_type": "code",
   "execution_count": null,
   "id": "e0502347",
   "metadata": {},
   "outputs": [],
   "source": []
  }
 ],
 "metadata": {
  "kernelspec": {
   "display_name": "Python [conda env:cats-test]",
   "language": "python",
   "name": "conda-env-cats-test-py"
  },
  "language_info": {
   "codemirror_mode": {
    "name": "ipython",
    "version": 3
   },
   "file_extension": ".py",
   "mimetype": "text/x-python",
   "name": "python",
   "nbconvert_exporter": "python",
   "pygments_lexer": "ipython3",
   "version": "3.10.6"
  },
  "toc": {
   "base_numbering": 1,
   "nav_menu": {},
   "number_sections": true,
   "sideBar": true,
   "skip_h1_title": false,
   "title_cell": "Table of Contents",
   "title_sidebar": "Contents",
   "toc_cell": false,
   "toc_position": {},
   "toc_section_display": true,
   "toc_window_display": false
  }
 },
 "nbformat": 4,
 "nbformat_minor": 5
}
