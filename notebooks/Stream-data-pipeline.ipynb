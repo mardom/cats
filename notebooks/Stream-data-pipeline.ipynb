{
 "cells": [
  {
   "cell_type": "code",
   "execution_count": 4,
   "id": "8912ba6d",
   "metadata": {
    "ExecuteTime": {
     "end_time": "2022-11-02T20:42:08.661399Z",
     "start_time": "2022-11-02T20:42:08.643602Z"
    }
   },
   "outputs": [],
   "source": [
    "import astropy.coordinates as coord\n",
    "import astropy.table as at\n",
    "import astropy.units as u\n",
    "import matplotlib as mpl\n",
    "import matplotlib.pyplot as plt\n",
    "%matplotlib inline\n",
    "import numpy as np\n",
    "import scipy.interpolate as sci\n",
    "\n",
    "import gala.coordinates as gc\n",
    "from pyia import GaiaData\n",
    "import galstreams\n",
    "import cats.photometry as phot\n",
    "from cats.data import make_astro_photo_joined_data"
   ]
  },
  {
   "cell_type": "code",
   "execution_count": 2,
   "id": "8aec9b5f",
   "metadata": {
    "ExecuteTime": {
     "end_time": "2022-11-02T20:39:12.141332Z",
     "start_time": "2022-11-02T20:38:47.039263Z"
    }
   },
   "outputs": [
    {
     "name": "stdout",
     "output_type": "stream",
     "text": [
      "Initializing galstreams library from master_log... \n"
     ]
    }
   ],
   "source": [
    "mws = galstreams.MWStreams(verbose=False, implement_Off=True)"
   ]
  },
  {
   "cell_type": "markdown",
   "id": "cc9300ac",
   "metadata": {},
   "source": [
    "# GD-1"
   ]
  },
  {
   "cell_type": "code",
   "execution_count": 6,
   "id": "697384a8",
   "metadata": {
    "ExecuteTime": {
     "end_time": "2022-11-02T20:42:23.065244Z",
     "start_time": "2022-11-02T20:42:12.763395Z"
    }
   },
   "outputs": [],
   "source": [
    "name = 'GD-1'\n",
    "ms_name = 'GD-1-PB18'\n",
    "g = GaiaData(f'../data/GaiaDR3-{name}-all.fits')\n",
    "p = phot.PS1Phot('../data/PS1DR2-GD-1_xm.fits')\n",
    "gs = mws[ms_name]"
   ]
  },
  {
   "cell_type": "code",
   "execution_count": 8,
   "id": "078f836e",
   "metadata": {
    "ExecuteTime": {
     "end_time": "2022-11-02T20:45:01.940522Z",
     "start_time": "2022-11-02T20:43:24.317948Z"
    }
   },
   "outputs": [
    {
     "name": "stdout",
     "output_type": "stream",
     "text": [
      "/mnt/home/apricewhelan/anaconda3/lib/python3.9/site-packages/astropy/io/fits/card.py:264: VerifyWarning: Keyword name 'band_names' is greater than 8 characters or contains characters not allowed by the FITS standard; a HIERARCH card will be created.\n",
      "  warnings.warn(\n",
      "\n"
     ]
    }
   ],
   "source": [
    "joined = make_astro_photo_joined_data(g, p, gs)\n",
    "joined.write(f'../data/joined-{name}.fits', overwrite=True)"
   ]
  },
  {
   "cell_type": "markdown",
   "id": "1de8b618",
   "metadata": {},
   "source": [
    "# Pal 5"
   ]
  },
  {
   "cell_type": "code",
   "execution_count": 10,
   "id": "182e57d2",
   "metadata": {
    "ExecuteTime": {
     "end_time": "2022-11-02T20:45:50.817619Z",
     "start_time": "2022-11-02T20:45:48.934191Z"
    }
   },
   "outputs": [],
   "source": [
    "name = 'Pal5'\n",
    "ms_name = 'Pal5-PW19'\n",
    "g = GaiaData(f'../data/GaiaDR3-{name}-all.fits')\n",
    "p = phot.PS1Phot('../data/PS1DR2-Pal5_xm.fits')\n",
    "gs = mws[ms_name]"
   ]
  },
  {
   "cell_type": "code",
   "execution_count": 11,
   "id": "d7efbe39",
   "metadata": {
    "ExecuteTime": {
     "end_time": "2022-11-02T20:46:15.592591Z",
     "start_time": "2022-11-02T20:45:52.717442Z"
    }
   },
   "outputs": [
    {
     "name": "stdout",
     "output_type": "stream",
     "text": [
      "/mnt/home/apricewhelan/anaconda3/lib/python3.9/site-packages/astropy/io/fits/card.py:264: VerifyWarning: Keyword name 'band_names' is greater than 8 characters or contains characters not allowed by the FITS standard; a HIERARCH card will be created.\n",
      "  warnings.warn(\n",
      "\n"
     ]
    }
   ],
   "source": [
    "joined = make_astro_photo_joined_data(g, p, gs)\n",
    "joined.write(f'../data/joined-{name}.fits', overwrite=True)"
   ]
  },
  {
   "cell_type": "markdown",
   "id": "9dc9aacb",
   "metadata": {},
   "source": [
    "# Jhelum"
   ]
  },
  {
   "cell_type": "code",
   "execution_count": 19,
   "id": "6f75e5f7",
   "metadata": {
    "ExecuteTime": {
     "end_time": "2022-11-02T20:51:56.416737Z",
     "start_time": "2022-11-02T20:51:52.511003Z"
    }
   },
   "outputs": [],
   "source": [
    "tbl_gaia = at.Table.read('../data/GaiaDR3-Jhelum-all.fits')\n",
    "tbl_des = at.Table.read('../data/Jhelum/jhelum_desy6.fits')\n",
    "\n",
    "c_des = coord.SkyCoord(tbl_des['RA']*u.deg, tbl_des['DEC']*u.deg)\n",
    "c_gaia = coord.SkyCoord(tbl_gaia['ra']*u.deg, tbl_gaia['dec']*u.deg)"
   ]
  },
  {
   "cell_type": "code",
   "execution_count": 20,
   "id": "97488015",
   "metadata": {
    "ExecuteTime": {
     "end_time": "2022-11-02T20:52:13.603378Z",
     "start_time": "2022-11-02T20:52:08.175854Z"
    }
   },
   "outputs": [],
   "source": [
    "idx, sep, _ = c_gaia.match_to_catalog_sky(c_des)"
   ]
  },
  {
   "cell_type": "code",
   "execution_count": 27,
   "id": "912897a9",
   "metadata": {
    "ExecuteTime": {
     "end_time": "2022-11-02T20:53:15.703477Z",
     "start_time": "2022-11-02T20:53:14.519848Z"
    }
   },
   "outputs": [],
   "source": [
    "sep_mask = sep < 3*u.arcsec\n",
    "tbl_des_sub = tbl_des[idx[sep_mask]]\n",
    "tbl_des_sub['source_id'] = tbl_gaia[sep_mask]['source_id']"
   ]
  },
  {
   "cell_type": "code",
   "execution_count": 29,
   "id": "70c4a5b0",
   "metadata": {
    "ExecuteTime": {
     "end_time": "2022-11-02T20:53:54.355333Z",
     "start_time": "2022-11-02T20:53:53.573199Z"
    }
   },
   "outputs": [],
   "source": [
    "name = 'Jhelum'\n",
    "ms_name = 'Jhelum-b-B19'\n",
    "g = GaiaData(f'../data/GaiaDR3-{name}-all.fits')\n",
    "p = phot.DESY6Phot(tbl_des_sub)\n",
    "gs = mws[ms_name]"
   ]
  },
  {
   "cell_type": "code",
   "execution_count": 30,
   "id": "b4aa499a",
   "metadata": {
    "ExecuteTime": {
     "end_time": "2022-11-02T20:54:23.392949Z",
     "start_time": "2022-11-02T20:54:02.244147Z"
    }
   },
   "outputs": [
    {
     "name": "stdout",
     "output_type": "stream",
     "text": [
      "/mnt/home/apricewhelan/anaconda3/lib/python3.9/site-packages/astropy/io/fits/card.py:264: VerifyWarning: Keyword name 'band_names' is greater than 8 characters or contains characters not allowed by the FITS standard; a HIERARCH card will be created.\n",
      "  warnings.warn(\n",
      "\n"
     ]
    }
   ],
   "source": [
    "joined = make_astro_photo_joined_data(g, p, gs)\n",
    "joined.write(f'../data/joined-{name}.fits', overwrite=True)"
   ]
  },
  {
   "cell_type": "markdown",
   "id": "54f8ff66",
   "metadata": {},
   "source": [
    "# PS1-A"
   ]
  },
  {
   "cell_type": "code",
   "execution_count": 31,
   "id": "e19fd792",
   "metadata": {
    "ExecuteTime": {
     "end_time": "2022-11-02T20:54:28.105108Z",
     "start_time": "2022-11-02T20:54:27.801670Z"
    }
   },
   "outputs": [],
   "source": [
    "name = 'PS1-A'\n",
    "ms_name = 'PS1-A-B16'\n",
    "g = GaiaData(f'../data/GaiaDR3-{name}-all.fits')\n",
    "p = phot.PS1Phot('../data/PS1DR2-PS1-A_xm.fits')\n",
    "gs = mws[ms_name]"
   ]
  },
  {
   "cell_type": "code",
   "execution_count": 32,
   "id": "f16db284",
   "metadata": {
    "ExecuteTime": {
     "end_time": "2022-11-02T20:54:32.550507Z",
     "start_time": "2022-11-02T20:54:31.339253Z"
    }
   },
   "outputs": [
    {
     "name": "stdout",
     "output_type": "stream",
     "text": [
      "/mnt/home/apricewhelan/anaconda3/lib/python3.9/site-packages/astropy/io/fits/card.py:264: VerifyWarning: Keyword name 'band_names' is greater than 8 characters or contains characters not allowed by the FITS standard; a HIERARCH card will be created.\n",
      "  warnings.warn(\n",
      "\n"
     ]
    }
   ],
   "source": [
    "joined = make_astro_photo_joined_data(g, p, gs)\n",
    "joined.write(f'../data/joined-{name}.fits', overwrite=True)"
   ]
  },
  {
   "cell_type": "markdown",
   "id": "376b432d",
   "metadata": {},
   "source": [
    "# Fjorm"
   ]
  },
  {
   "cell_type": "code",
   "execution_count": 34,
   "id": "13683d10",
   "metadata": {
    "ExecuteTime": {
     "end_time": "2022-11-02T20:55:42.110553Z",
     "start_time": "2022-11-02T20:55:24.934867Z"
    }
   },
   "outputs": [],
   "source": [
    "name = 'Fjorm-M68'\n",
    "ms_name = 'M68-P19'\n",
    "g = GaiaData(f'../data/GaiaDR3-{name}-all.fits')\n",
    "p = phot.GaiaDR3Phot(g.data)\n",
    "gs = mws[ms_name]"
   ]
  },
  {
   "cell_type": "code",
   "execution_count": 35,
   "id": "80fdf47c",
   "metadata": {
    "ExecuteTime": {
     "end_time": "2022-11-02T20:59:34.778343Z",
     "start_time": "2022-11-02T20:55:55.609273Z"
    }
   },
   "outputs": [],
   "source": [
    "joined = make_astro_photo_joined_data(g, p, gs)\n",
    "joined.write(f'../data/joined-{name}.fits', overwrite=True)"
   ]
  },
  {
   "cell_type": "code",
   "execution_count": null,
   "id": "e0502347",
   "metadata": {},
   "outputs": [],
   "source": []
  }
 ],
 "metadata": {
  "kernelspec": {
   "display_name": "adrian conda base",
   "language": "python",
   "name": "conda-base"
  },
  "language_info": {
   "codemirror_mode": {
    "name": "ipython",
    "version": 3
   },
   "file_extension": ".py",
   "mimetype": "text/x-python",
   "name": "python",
   "nbconvert_exporter": "python",
   "pygments_lexer": "ipython3",
   "version": "3.9.13"
  },
  "toc": {
   "base_numbering": 1,
   "nav_menu": {},
   "number_sections": true,
   "sideBar": true,
   "skip_h1_title": false,
   "title_cell": "Table of Contents",
   "title_sidebar": "Contents",
   "toc_cell": false,
   "toc_position": {},
   "toc_section_display": true,
   "toc_window_display": false
  }
 },
 "nbformat": 4,
 "nbformat_minor": 5
}
